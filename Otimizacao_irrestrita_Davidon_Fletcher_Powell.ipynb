{
  "nbformat": 4,
  "nbformat_minor": 0,
  "metadata": {
    "colab": {
      "name": "Otimizacao irrestrita-Davidon-Fletcher-Powell - Mariana Moura.ipynb",
      "provenance": [],
      "collapsed_sections": [],
      "include_colab_link": true
    },
    "kernelspec": {
      "name": "python3",
      "display_name": "Python 3"
    },
    "language_info": {
      "name": "python"
    }
  },
  "cells": [
    {
      "cell_type": "markdown",
      "metadata": {
        "id": "view-in-github",
        "colab_type": "text"
      },
      "source": [
        "<a href=\"https://colab.research.google.com/github/marianasmoura/tecnicas-de-otimizacao/blob/main/Otimizacao_irrestrita_Davidon_Fletcher_Powell.ipynb\" target=\"_parent\"><img src=\"https://colab.research.google.com/assets/colab-badge.svg\" alt=\"Open In Colab\"/></a>"
      ]
    },
    {
      "cell_type": "markdown",
      "metadata": {
        "id": "2ZhkHjeRbiEH"
      },
      "source": [
        "UNIVERSIDADE FEDERAL DO PIAUÍ\n",
        "\n",
        "CURSO DE GRADUAÇÃO EM ENGENHARIA ELÉTRICA\n",
        "\n",
        "DISCIPLINA: TÉCNICAS DE OTIMIZAÇÃO\n",
        "\n",
        "DOCENTE: ALDIR SILVA SOUSA\n",
        "\n",
        "DISCENTE: MARIANA DE SOUSA MOURA\n",
        "\n",
        "Atividade 4: Otimização Irrestrita pelo Método de Devidon-Fletcher-Powell"
      ]
    },
    {
      "cell_type": "markdown",
      "metadata": {
        "id": "VW-kdF37bte1"
      },
      "source": [
        "Resolva os exercícios usando o método de Devidon-Fletcher-Powell."
      ]
    },
    {
      "cell_type": "markdown",
      "metadata": {
        "id": "IXmk75kfkduc"
      },
      "source": [
        "**A classe Parametros**\n",
        "\n",
        "Esta classe tem por finalidade enviar em uma única variável, todos os parâmetros necessários para executar o método. \n",
        "\n",
        "\n",
        "Para o método de Davidon-Fletcher-Powell, precisamos da função que se deseja minimizar, o intervalo de incerteza inicial e a tolerância requerida.\n",
        "\n"
      ]
    },
    {
      "cell_type": "code",
      "metadata": {
        "id": "e2jP-4N4Zczb"
      },
      "source": [
        "import numpy as np\n",
        "import sympy as sym\n",
        "\n",
        "class Parametros:\n",
        "  def __init__(self,f,x0,vars,eps):\n",
        "    self.f = f\n",
        "    self.x0 = np.array(x0)\n",
        "    self.vars = vars\n",
        "    self.eps = eps"
      ],
      "execution_count": null,
      "outputs": []
    },
    {
      "cell_type": "markdown",
      "metadata": {
        "id": "OFO2DjOGgbv_"
      },
      "source": [
        "#**Método de Newton Monovariável**\n",
        "\n",
        "Trecho responsável por realizar a minimização do valor de lamda, que corresponde a taxa com a qual a otimização da função é feita. "
      ]
    },
    {
      "cell_type": "code",
      "metadata": {
        "id": "T4wz4825wAEO"
      },
      "source": [
        "lmbd = sym.Symbol('lmbd')\n",
        "def sym_newton(f,x1,eps):\n",
        "   x  =  x1\n",
        "   px = x\n",
        "   k  = 1\n",
        "   stop = False\n",
        "   df = sym.diff(f)\n",
        "   d2f = sym.diff(df)\n",
        "   map = dict()\n",
        "   \n",
        "   while (not stop):\n",
        "       map[lmbd]= float(x)\n",
        "       jac = df.subs(map)\n",
        "       hes = d2f.subs(map)\n",
        "       px = x\n",
        "       x = x - float(jac/hes)\n",
        "       e = abs(px - x)\n",
        "       k = k + 1  \n",
        "       if  (e < eps): stop=True\n",
        "       if (k > 30): stop=True\n",
        "       if (abs(jac) < eps):stop=True\n",
        "   return  x\n"
      ],
      "execution_count": null,
      "outputs": []
    },
    {
      "cell_type": "markdown",
      "metadata": {
        "id": "WflKmPYchORn"
      },
      "source": [
        "#**Cômputo do gradiente e avaliação das funções nos pontos**\n",
        "\n",
        "Nesta seção, têm-se definições de funções para calcular os valores do gradiente e da hessiana utilizando-se a função em termos de variáveis simbólicas. Também realiza-se aqui, por meio dessas definições de funções, a substituição das variáveis simbólicas por valores numéricos passados como parâmetro."
      ]
    },
    {
      "cell_type": "code",
      "metadata": {
        "id": "K7Md5VDqgncF"
      },
      "source": [
        "#Avalia a função simbólica f em x\n",
        "def eval_f_simbolica(f,variaveis,x,convertToFloat=False):\n",
        "   mp = dict()\n",
        "   for i in range(len(variaveis)):\n",
        "      mp[variaveis[i]] = x[i]\n",
        "   if (convertToFloat):\n",
        "      return float(f.subs(mp))\n",
        "   return f.subs(mp)\n",
        "   #return f.subs(mp)\n",
        "\n",
        "def eval_f_simb(f,variaveis,x):\n",
        "   mp = dict()\n",
        "   for i in range(len(variaveis)):\n",
        "      mp[variaveis[i]] = x[i]\n",
        "   return f.subs(mp)\n",
        "\n",
        "# Retorna o gradiente simbólico\n",
        "def gradiente_simbolico(funcao,variaveis):\n",
        "     g = [sym.diff(funcao,x) for x in variaveis]\n",
        "     return g  \n",
        "\n",
        "# Retorna o vetor gradiente em x\n",
        "def eval_gradiente(grad_simb,variaveis,x):\n",
        "   \n",
        "   g = [ eval_f_simbolica(f,variaveis,x) for f in grad_simb]\n",
        "   return np.array(g)\n"
      ],
      "execution_count": null,
      "outputs": []
    },
    {
      "cell_type": "markdown",
      "metadata": {
        "id": "2IGhSfkYhWds"
      },
      "source": [
        "#**O método Davidson-Fletcher-Powell**\n",
        "\n",
        "Principal definição para o método. Aqui são passados como parâmetro a função, intervalo de incerteza inicial e tolerância, utilizados para realizar a otimização. Dentro desta função calcula-se a derivada e a matriz D2 simétrica resultante (que substitui a matriz hessiana do método de Newton) após diversas iterações em busca do ponto de mínimo. E, após convergência, encontra-se o valor de y, ponto de mínimo para determinada tolerância."
      ]
    },
    {
      "cell_type": "code",
      "metadata": {
        "id": "nQBKVeJlhU4c"
      },
      "source": [
        "import pandas as pd\n",
        "import math\n",
        "\n",
        "def Davidon_Fletcher_Powell(params):\n",
        "    n = len(params.x0)\n",
        "    x = params.x0\n",
        "    D = np.eye(n,n) # gerando uma matriz identidade nxn\n",
        "    vars = params.vars\n",
        "    f = params.f\n",
        "    eps = params.eps\n",
        "\n",
        "    cols = ['x','y','df(x)']    \n",
        "    table = pd.DataFrame([], columns=cols)\n",
        "\n",
        "    j = k = 0\n",
        "    y = x\n",
        "\n",
        "    sym_grad = gradiente_simbolico(f,vars) #criando o vetor gradiante simbólico\n",
        "    G = eval_gradiente(sym_grad,vars,y) #calcula o gradiente simbólico em y\n",
        "    G_ant = G\n",
        "    B = np.array(G)\n",
        "    tolerancia = pow(sum(pow(B,2)),1/2)\n",
        "    #Passo 1 do passo principal.\n",
        "    while (j < n):\n",
        "          if (tolerancia<eps): #critério de parada ===> np.linalg.norm(G) equivale ao módulo\n",
        "              return solucao,table\n",
        "              \n",
        "          d = -np.matmul(np.array(D),G)  #calculando   -D x G'\n",
        "          #para calcular min f(y + lambda* d)\n",
        "          #m = y.flatten() + lmbd*d # versão anterior\n",
        "          m = y + lmbd*d\n",
        "\n",
        "          subProb = eval_f_simb(f,vars,m)\n",
        "          lmbdOtimo = sym_newton(subProb,0,0.001)\n",
        "          \n",
        "          y_ant = y\n",
        "          #y = y.flatten() + lmbdOtimo*d\n",
        "          y = y + lmbdOtimo*d\n",
        "\n",
        "          if (j < (n-1)):\n",
        "            #Passo 2 do passo principal\n",
        "             G_ant = G\n",
        "             G = eval_gradiente(sym_grad,vars,y)\n",
        "\n",
        "             p = y - y_ant\n",
        "             q = G - G_ant\n",
        "             q = q.reshape(n,1) \n",
        "\n",
        "             pt = p.transpose()\n",
        "             qt = q.transpose()\n",
        "             \n",
        "             p_pt = p.dot(pt)\n",
        "             pt_q = pt.dot(q)\n",
        "             \n",
        "\n",
        "             qt_D = np.matmul(qt,D) \n",
        "             D_q = np.matmul(D,q)\n",
        "             \n",
        "             num  = np.matmul(D_q,qt_D)\n",
        "             dem  = np.matmul(qt_D,q)\n",
        "            \n",
        "             D = D + p_pt/pt_q - num/dem\n",
        "                 \n",
        "          else:\n",
        "              D = np.eye(n,n) # gerando uma matriz identidade nxn\n",
        "              j = -1\n",
        "              x = y\n",
        "              #print('x: ',x.flatten())\n",
        "          j = j + 1\n",
        "\n",
        "          solucao = list(y)\n",
        "          B = np.array(G)\n",
        "          tolerancia = pow(sum(pow(B,2)),1/2)\n",
        "          row = pd.DataFrame(list([[x,y,G]]),columns=cols)\n",
        "          table = table.append(row, ignore_index=True) # concatena valores de cada iteração\n",
        "    return solucao,table \n",
        "  "
      ],
      "execution_count": null,
      "outputs": []
    },
    {
      "cell_type": "markdown",
      "metadata": {
        "id": "gLIb71ZExFZ4"
      },
      "source": [
        "**1.** Considere o seguinte problema:\n",
        "\n",
        "Minimizar $\\sum_{i=2}^{n} [100(x_i-x^2_{i-1})^2 + (1-x_{i-1})^2]$\n",
        "\n",
        "Resolva para n = 5, 10, e 50. Iniciando do ponto $x_0 = [-1.2,1.0,-1.2,1.0,...]$"
      ]
    },
    {
      "cell_type": "code",
      "metadata": {
        "id": "8oQe4hh9PNp5"
      },
      "source": [
        "# Para n = 5\n",
        "import numpy as np\n",
        "import sympy as sym \n",
        "\n",
        "\n",
        "variaveis = list(sym.symbols(\"x:5\"))\n",
        "c = variaveis\n",
        "\n",
        "def f(c):\n",
        "  fo = 0\n",
        "  for i in range(1,5):\n",
        "     fo = fo + 100*(c[i] - c[i-1]**2)**2 + (1 - c[i-1])**2 \n",
        "  return fo\n",
        "\n",
        "x = []\n",
        "for i in range(1,6):\n",
        "    if (i%2 != 0):\n",
        "        x.append(-1.2)\n",
        "    else:\n",
        "        x.append(1)  \n",
        "\n",
        "eps = 1e-3\n",
        "p  = Parametros(f(c),x,c,eps)\n",
        "y,table = Davidon_Fletcher_Powell(p)"
      ],
      "execution_count": null,
      "outputs": []
    },
    {
      "cell_type": "code",
      "metadata": {
        "id": "RC_9-fdBjCus",
        "colab": {
          "base_uri": "https://localhost:8080/"
        },
        "outputId": "d2882e44-fb69-4d98-e8c8-e335e66f3e70"
      },
      "source": [
        "y"
      ],
      "execution_count": null,
      "outputs": [
        {
          "output_type": "execute_result",
          "data": {
            "text/plain": [
              "[0.999955714246688,\n",
              " 0.999912026734920,\n",
              " 0.999824951144613,\n",
              " 0.999648476789618,\n",
              " 0.999295698727518]"
            ]
          },
          "metadata": {
            "tags": []
          },
          "execution_count": 8
        }
      ]
    },
    {
      "cell_type": "code",
      "metadata": {
        "colab": {
          "base_uri": "https://localhost:8080/",
          "height": 419
        },
        "id": "xMQTv9EZiQw3",
        "outputId": "ac80e9ad-741b-4ea6-f1a5-2e9881c96153"
      },
      "source": [
        "table"
      ],
      "execution_count": null,
      "outputs": [
        {
          "output_type": "execute_result",
          "data": {
            "text/html": [
              "<div>\n",
              "<style scoped>\n",
              "    .dataframe tbody tr th:only-of-type {\n",
              "        vertical-align: middle;\n",
              "    }\n",
              "\n",
              "    .dataframe tbody tr th {\n",
              "        vertical-align: top;\n",
              "    }\n",
              "\n",
              "    .dataframe thead th {\n",
              "        text-align: right;\n",
              "    }\n",
              "</style>\n",
              "<table border=\"1\" class=\"dataframe\">\n",
              "  <thead>\n",
              "    <tr style=\"text-align: right;\">\n",
              "      <th></th>\n",
              "      <th>x</th>\n",
              "      <th>y</th>\n",
              "      <th>df(x)</th>\n",
              "    </tr>\n",
              "  </thead>\n",
              "  <tbody>\n",
              "    <tr>\n",
              "      <th>0</th>\n",
              "      <td>[-1.2, 1.0, -1.2, 1.0, -1.2]</td>\n",
              "      <td>[-1.06832397392761, 0.516292149121821, -0.7995...</td>\n",
              "      <td>[-271.227882018711, 94.2067684642814, -256.190...</td>\n",
              "    </tr>\n",
              "    <tr>\n",
              "      <th>1</th>\n",
              "      <td>[-1.2, 1.0, -1.2, 1.0, -1.2]</td>\n",
              "      <td>[-0.793673731889360, 0.640867373737510, -0.678...</td>\n",
              "      <td>[-0.111253017012160, 280.679602471813, -215.63...</td>\n",
              "    </tr>\n",
              "    <tr>\n",
              "      <th>2</th>\n",
              "      <td>[-1.2, 1.0, -1.2, 1.0, -1.2]</td>\n",
              "      <td>[-0.854933688861322, 0.642036288692871, -0.540...</td>\n",
              "      <td>[-34.1028706989055, 226.273900679618, -98.3330...</td>\n",
              "    </tr>\n",
              "    <tr>\n",
              "      <th>3</th>\n",
              "      <td>[-1.2, 1.0, -1.2, 1.0, -1.2]</td>\n",
              "      <td>[-0.947345102043352, 0.696352955493222, -0.643...</td>\n",
              "      <td>[-80.1028388306721, 273.467787065711, -145.789...</td>\n",
              "    </tr>\n",
              "    <tr>\n",
              "      <th>4</th>\n",
              "      <td>[-0.847182478692355, 0.539057854628998, -0.851...</td>\n",
              "      <td>[-0.847182478692355, 0.539057854628998, -0.851...</td>\n",
              "      <td>[-80.1028388306721, 273.467787065711, -145.789...</td>\n",
              "    </tr>\n",
              "    <tr>\n",
              "      <th>...</th>\n",
              "      <td>...</td>\n",
              "      <td>...</td>\n",
              "      <td>...</td>\n",
              "    </tr>\n",
              "    <tr>\n",
              "      <th>147</th>\n",
              "      <td>[0.999975782934895, 0.999923810190700, 0.99982...</td>\n",
              "      <td>[0.999970972279620, 0.999921598361809, 0.99982...</td>\n",
              "      <td>[0.00808052432370232, 0.00307923166616320, 0.0...</td>\n",
              "    </tr>\n",
              "    <tr>\n",
              "      <th>148</th>\n",
              "      <td>[0.999975782934895, 0.999923810190700, 0.99982...</td>\n",
              "      <td>[0.999969955136985, 0.999926959881690, 0.99983...</td>\n",
              "      <td>[0.00512027261589765, 0.00599443357663176, 0.0...</td>\n",
              "    </tr>\n",
              "    <tr>\n",
              "      <th>149</th>\n",
              "      <td>[0.999954219961018, 0.999913924161985, 0.99982...</td>\n",
              "      <td>[0.999954219961018, 0.999913924161985, 0.99982...</td>\n",
              "      <td>[0.00512027261589765, 0.00599443357663176, 0.0...</td>\n",
              "    </tr>\n",
              "    <tr>\n",
              "      <th>150</th>\n",
              "      <td>[0.999954219961018, 0.999913924161985, 0.99982...</td>\n",
              "      <td>[0.999954360630490, 0.999914088847319, 0.99982...</td>\n",
              "      <td>[-0.00223738214259583, 0.00206784432936047, 3....</td>\n",
              "    </tr>\n",
              "    <tr>\n",
              "      <th>151</th>\n",
              "      <td>[0.999954219961018, 0.999913924161985, 0.99982...</td>\n",
              "      <td>[0.999955714246688, 0.999912026734920, 0.99982...</td>\n",
              "      <td>[-0.000327073069968264, -0.000412633342307345,...</td>\n",
              "    </tr>\n",
              "  </tbody>\n",
              "</table>\n",
              "<p>152 rows × 3 columns</p>\n",
              "</div>"
            ],
            "text/plain": [
              "                                                     x  ...                                              df(x)\n",
              "0                         [-1.2, 1.0, -1.2, 1.0, -1.2]  ...  [-271.227882018711, 94.2067684642814, -256.190...\n",
              "1                         [-1.2, 1.0, -1.2, 1.0, -1.2]  ...  [-0.111253017012160, 280.679602471813, -215.63...\n",
              "2                         [-1.2, 1.0, -1.2, 1.0, -1.2]  ...  [-34.1028706989055, 226.273900679618, -98.3330...\n",
              "3                         [-1.2, 1.0, -1.2, 1.0, -1.2]  ...  [-80.1028388306721, 273.467787065711, -145.789...\n",
              "4    [-0.847182478692355, 0.539057854628998, -0.851...  ...  [-80.1028388306721, 273.467787065711, -145.789...\n",
              "..                                                 ...  ...                                                ...\n",
              "147  [0.999975782934895, 0.999923810190700, 0.99982...  ...  [0.00808052432370232, 0.00307923166616320, 0.0...\n",
              "148  [0.999975782934895, 0.999923810190700, 0.99982...  ...  [0.00512027261589765, 0.00599443357663176, 0.0...\n",
              "149  [0.999954219961018, 0.999913924161985, 0.99982...  ...  [0.00512027261589765, 0.00599443357663176, 0.0...\n",
              "150  [0.999954219961018, 0.999913924161985, 0.99982...  ...  [-0.00223738214259583, 0.00206784432936047, 3....\n",
              "151  [0.999954219961018, 0.999913924161985, 0.99982...  ...  [-0.000327073069968264, -0.000412633342307345,...\n",
              "\n",
              "[152 rows x 3 columns]"
            ]
          },
          "metadata": {
            "tags": []
          },
          "execution_count": 9
        }
      ]
    },
    {
      "cell_type": "code",
      "metadata": {
        "id": "I7lnD4ITSwxR"
      },
      "source": [
        "# Para n = 10\n",
        "import numpy as np\n",
        "import sympy as sym \n",
        "\n",
        "\n",
        "variaveis = list(sym.symbols(\"x:10\"))\n",
        "\n",
        "c = variaveis\n",
        "\n",
        "def f(c):\n",
        "  fo = 0\n",
        "  for i in range(1,10):\n",
        "     fo = fo + 100*(c[i] - c[i-1]**2)**2 + (1 - c[i-1])**2 \n",
        "  return fo\n",
        "\n",
        "x = []\n",
        "for i in range(1,11):\n",
        "    if (i%2 != 0):\n",
        "        x.append(-1.2)\n",
        "    else:\n",
        "        x.append(1)  \n",
        "\n",
        "eps = 1e-3\n",
        "p  = Parametros(f(c),x,c,eps)\n",
        "y,table = Davidon_Fletcher_Powell(p)"
      ],
      "execution_count": null,
      "outputs": []
    },
    {
      "cell_type": "code",
      "metadata": {
        "colab": {
          "base_uri": "https://localhost:8080/"
        },
        "id": "cMmp6nnIrIYx",
        "outputId": "028c1f4e-d62a-4eb6-815a-d45f0b0a38e5"
      },
      "source": [
        "y"
      ],
      "execution_count": null,
      "outputs": [
        {
          "output_type": "execute_result",
          "data": {
            "text/plain": [
              "[-0.993262625748586,\n",
              " 0.996603910236679,\n",
              " 0.998236862156483,\n",
              " 0.998982143527128,\n",
              " 0.999213606237084,\n",
              " 0.999048392017777,\n",
              " 0.998403878905059,\n",
              " 0.996955573848852,\n",
              " 0.993977951531375,\n",
              " 0.987992351319893]"
            ]
          },
          "metadata": {
            "tags": []
          },
          "execution_count": 11
        }
      ]
    },
    {
      "cell_type": "code",
      "metadata": {
        "colab": {
          "base_uri": "https://localhost:8080/",
          "height": 419
        },
        "id": "wbUMe3wsrKR9",
        "outputId": "85c2d7c9-b1c9-4967-fe03-e18a29b57423"
      },
      "source": [
        "table"
      ],
      "execution_count": null,
      "outputs": [
        {
          "output_type": "execute_result",
          "data": {
            "text/html": [
              "<div>\n",
              "<style scoped>\n",
              "    .dataframe tbody tr th:only-of-type {\n",
              "        vertical-align: middle;\n",
              "    }\n",
              "\n",
              "    .dataframe tbody tr th {\n",
              "        vertical-align: top;\n",
              "    }\n",
              "\n",
              "    .dataframe thead th {\n",
              "        text-align: right;\n",
              "    }\n",
              "</style>\n",
              "<table border=\"1\" class=\"dataframe\">\n",
              "  <thead>\n",
              "    <tr style=\"text-align: right;\">\n",
              "      <th></th>\n",
              "      <th>x</th>\n",
              "      <th>y</th>\n",
              "      <th>df(x)</th>\n",
              "    </tr>\n",
              "  </thead>\n",
              "  <tbody>\n",
              "    <tr>\n",
              "      <th>0</th>\n",
              "      <td>[-1.2, 1.0, -1.2, 1.0, -1.2, 1.0, -1.2, 1.0, -...</td>\n",
              "      <td>[-1.07645464892126, 0.546159934812791, -0.8243...</td>\n",
              "      <td>[-267.925064211607, 121.823653191237, -272.138...</td>\n",
              "    </tr>\n",
              "    <tr>\n",
              "      <th>1</th>\n",
              "      <td>[-1.2, 1.0, -1.2, 1.0, -1.2, 1.0, -1.2, 1.0, -...</td>\n",
              "      <td>[-0.810350221164158, 0.658754347153573, -0.700...</td>\n",
              "      <td>[-2.94426344350433, 298.735656013492, -217.266...</td>\n",
              "    </tr>\n",
              "    <tr>\n",
              "      <th>2</th>\n",
              "      <td>[-1.2, 1.0, -1.2, 1.0, -1.2, 1.0, -1.2, 1.0, -...</td>\n",
              "      <td>[-0.831462898688653, 0.608354672118218, -0.635...</td>\n",
              "      <td>[-31.2594720058003, 227.427928816017, -158.931...</td>\n",
              "    </tr>\n",
              "    <tr>\n",
              "      <th>3</th>\n",
              "      <td>[-1.2, 1.0, -1.2, 1.0, -1.2, 1.0, -1.2, 1.0, -...</td>\n",
              "      <td>[-0.919262672716396, 0.703747551776220, -0.658...</td>\n",
              "      <td>[-55.7938946555927, 295.996036128778, -199.841...</td>\n",
              "    </tr>\n",
              "    <tr>\n",
              "      <th>4</th>\n",
              "      <td>[-1.2, 1.0, -1.2, 1.0, -1.2, 1.0, -1.2, 1.0, -...</td>\n",
              "      <td>[-0.933853718696140, 0.664062351949551, -0.642...</td>\n",
              "      <td>[-81.5719630458559, 245.493847009460, -185.124...</td>\n",
              "    </tr>\n",
              "    <tr>\n",
              "      <th>...</th>\n",
              "      <td>...</td>\n",
              "      <td>...</td>\n",
              "      <td>...</td>\n",
              "    </tr>\n",
              "    <tr>\n",
              "      <th>798</th>\n",
              "      <td>[-0.993264209878781, 0.996607331028612, 0.9982...</td>\n",
              "      <td>[-0.993261818772765, 0.996605317242838, 0.9982...</td>\n",
              "      <td>[0.000936506616710631, 0.00117671793321961, 0....</td>\n",
              "    </tr>\n",
              "    <tr>\n",
              "      <th>799</th>\n",
              "      <td>[-0.993261361769827, 0.996604806406364, 0.9982...</td>\n",
              "      <td>[-0.993261361769827, 0.996604806406364, 0.9982...</td>\n",
              "      <td>[0.000936506616710631, 0.00117671793321961, 0....</td>\n",
              "    </tr>\n",
              "    <tr>\n",
              "      <th>800</th>\n",
              "      <td>[-0.993261361769827, 0.996604806406364, 0.9982...</td>\n",
              "      <td>[-0.993262001982900, 0.996604001980436, 0.9982...</td>\n",
              "      <td>[0.000269716030402378, -0.000162599059706281, ...</td>\n",
              "    </tr>\n",
              "    <tr>\n",
              "      <th>801</th>\n",
              "      <td>[-0.993261361769827, 0.996604806406364, 0.9982...</td>\n",
              "      <td>[-0.993262714877388, 0.996603626815056, 0.9982...</td>\n",
              "      <td>[-0.000440559946468966, -0.000667923525782044,...</td>\n",
              "    </tr>\n",
              "    <tr>\n",
              "      <th>802</th>\n",
              "      <td>[-0.993261361769827, 0.996604806406364, 0.9982...</td>\n",
              "      <td>[-0.993262625748586, 0.996603910236679, 0.9982...</td>\n",
              "      <td>[-0.000257789040290390, -0.000326213591677060,...</td>\n",
              "    </tr>\n",
              "  </tbody>\n",
              "</table>\n",
              "<p>803 rows × 3 columns</p>\n",
              "</div>"
            ],
            "text/plain": [
              "                                                     x  ...                                              df(x)\n",
              "0    [-1.2, 1.0, -1.2, 1.0, -1.2, 1.0, -1.2, 1.0, -...  ...  [-267.925064211607, 121.823653191237, -272.138...\n",
              "1    [-1.2, 1.0, -1.2, 1.0, -1.2, 1.0, -1.2, 1.0, -...  ...  [-2.94426344350433, 298.735656013492, -217.266...\n",
              "2    [-1.2, 1.0, -1.2, 1.0, -1.2, 1.0, -1.2, 1.0, -...  ...  [-31.2594720058003, 227.427928816017, -158.931...\n",
              "3    [-1.2, 1.0, -1.2, 1.0, -1.2, 1.0, -1.2, 1.0, -...  ...  [-55.7938946555927, 295.996036128778, -199.841...\n",
              "4    [-1.2, 1.0, -1.2, 1.0, -1.2, 1.0, -1.2, 1.0, -...  ...  [-81.5719630458559, 245.493847009460, -185.124...\n",
              "..                                                 ...  ...                                                ...\n",
              "798  [-0.993264209878781, 0.996607331028612, 0.9982...  ...  [0.000936506616710631, 0.00117671793321961, 0....\n",
              "799  [-0.993261361769827, 0.996604806406364, 0.9982...  ...  [0.000936506616710631, 0.00117671793321961, 0....\n",
              "800  [-0.993261361769827, 0.996604806406364, 0.9982...  ...  [0.000269716030402378, -0.000162599059706281, ...\n",
              "801  [-0.993261361769827, 0.996604806406364, 0.9982...  ...  [-0.000440559946468966, -0.000667923525782044,...\n",
              "802  [-0.993261361769827, 0.996604806406364, 0.9982...  ...  [-0.000257789040290390, -0.000326213591677060,...\n",
              "\n",
              "[803 rows x 3 columns]"
            ]
          },
          "metadata": {
            "tags": []
          },
          "execution_count": 12
        }
      ]
    },
    {
      "cell_type": "code",
      "metadata": {
        "id": "t00zwsA9Vsrt",
        "colab": {
          "base_uri": "https://localhost:8080/",
          "height": 340
        },
        "outputId": "552cdacf-c738-46a2-bd60-8a2181482b1d"
      },
      "source": [
        "# Para n = 50\n",
        "import numpy as np\n",
        "import sympy as sym \n",
        "\n",
        "\n",
        "variaveis = list(sym.symbols(\"x:50\"))\n",
        "\n",
        "c = variaveis\n",
        "\n",
        "def f(c):\n",
        "  fo = 0\n",
        "  for i in range(1,50):\n",
        "     fo = fo + 100*(c[i] - c[i-1]**2)**2 + (1 - c[i-1])**2 \n",
        "  return fo\n",
        "\n",
        "x = []\n",
        "for i in range(1,51):\n",
        "    if (i%2 != 0):\n",
        "        x.append(-1.2)\n",
        "    else:\n",
        "        x.append(1)  \n",
        "\n",
        "eps = 1e-3\n",
        "p  = Parametros(f(c),x,c,eps)\n",
        "y,table = Davidon_Fletcher_Powell(p)"
      ],
      "execution_count": null,
      "outputs": [
        {
          "output_type": "error",
          "ename": "KeyboardInterrupt",
          "evalue": "ignored",
          "traceback": [
            "\u001b[0;31m---------------------------------------------------------------------------\u001b[0m",
            "\u001b[0;31mKeyboardInterrupt\u001b[0m                         Traceback (most recent call last)",
            "\u001b[0;32m<ipython-input-13-6bbe5db43840>\u001b[0m in \u001b[0;36m<module>\u001b[0;34m()\u001b[0m\n\u001b[1;32m     23\u001b[0m \u001b[0meps\u001b[0m \u001b[0;34m=\u001b[0m \u001b[0;36m1e-3\u001b[0m\u001b[0;34m\u001b[0m\u001b[0;34m\u001b[0m\u001b[0m\n\u001b[1;32m     24\u001b[0m \u001b[0mp\u001b[0m  \u001b[0;34m=\u001b[0m \u001b[0mParametros\u001b[0m\u001b[0;34m(\u001b[0m\u001b[0mf\u001b[0m\u001b[0;34m(\u001b[0m\u001b[0mc\u001b[0m\u001b[0;34m)\u001b[0m\u001b[0;34m,\u001b[0m\u001b[0mx\u001b[0m\u001b[0;34m,\u001b[0m\u001b[0mc\u001b[0m\u001b[0;34m,\u001b[0m\u001b[0meps\u001b[0m\u001b[0;34m)\u001b[0m\u001b[0;34m\u001b[0m\u001b[0;34m\u001b[0m\u001b[0m\n\u001b[0;32m---> 25\u001b[0;31m \u001b[0my\u001b[0m\u001b[0;34m,\u001b[0m\u001b[0mtable\u001b[0m \u001b[0;34m=\u001b[0m \u001b[0mDavidon_Fletcher_Powell\u001b[0m\u001b[0;34m(\u001b[0m\u001b[0mp\u001b[0m\u001b[0;34m)\u001b[0m\u001b[0;34m\u001b[0m\u001b[0;34m\u001b[0m\u001b[0m\n\u001b[0m",
            "\u001b[0;32m<ipython-input-6-0049b647ddb6>\u001b[0m in \u001b[0;36mDavidon_Fletcher_Powell\u001b[0;34m(params)\u001b[0m\n\u001b[1;32m     31\u001b[0m           \u001b[0mm\u001b[0m \u001b[0;34m=\u001b[0m \u001b[0my\u001b[0m \u001b[0;34m+\u001b[0m \u001b[0mlmbd\u001b[0m\u001b[0;34m*\u001b[0m\u001b[0md\u001b[0m\u001b[0;34m\u001b[0m\u001b[0;34m\u001b[0m\u001b[0m\n\u001b[1;32m     32\u001b[0m \u001b[0;34m\u001b[0m\u001b[0m\n\u001b[0;32m---> 33\u001b[0;31m           \u001b[0msubProb\u001b[0m \u001b[0;34m=\u001b[0m \u001b[0meval_f_simb\u001b[0m\u001b[0;34m(\u001b[0m\u001b[0mf\u001b[0m\u001b[0;34m,\u001b[0m\u001b[0mvars\u001b[0m\u001b[0;34m,\u001b[0m\u001b[0mm\u001b[0m\u001b[0;34m)\u001b[0m\u001b[0;34m\u001b[0m\u001b[0;34m\u001b[0m\u001b[0m\n\u001b[0m\u001b[1;32m     34\u001b[0m           \u001b[0mlmbdOtimo\u001b[0m \u001b[0;34m=\u001b[0m \u001b[0msym_newton\u001b[0m\u001b[0;34m(\u001b[0m\u001b[0msubProb\u001b[0m\u001b[0;34m,\u001b[0m\u001b[0;36m0\u001b[0m\u001b[0;34m,\u001b[0m\u001b[0;36m0.001\u001b[0m\u001b[0;34m)\u001b[0m\u001b[0;34m\u001b[0m\u001b[0;34m\u001b[0m\u001b[0m\n\u001b[1;32m     35\u001b[0m \u001b[0;34m\u001b[0m\u001b[0m\n",
            "\u001b[0;32m<ipython-input-5-c6d335764054>\u001b[0m in \u001b[0;36meval_f_simb\u001b[0;34m(f, variaveis, x)\u001b[0m\n\u001b[1;32m     13\u001b[0m    \u001b[0;32mfor\u001b[0m \u001b[0mi\u001b[0m \u001b[0;32min\u001b[0m \u001b[0mrange\u001b[0m\u001b[0;34m(\u001b[0m\u001b[0mlen\u001b[0m\u001b[0;34m(\u001b[0m\u001b[0mvariaveis\u001b[0m\u001b[0;34m)\u001b[0m\u001b[0;34m)\u001b[0m\u001b[0;34m:\u001b[0m\u001b[0;34m\u001b[0m\u001b[0;34m\u001b[0m\u001b[0m\n\u001b[1;32m     14\u001b[0m       \u001b[0mmp\u001b[0m\u001b[0;34m[\u001b[0m\u001b[0mvariaveis\u001b[0m\u001b[0;34m[\u001b[0m\u001b[0mi\u001b[0m\u001b[0;34m]\u001b[0m\u001b[0;34m]\u001b[0m \u001b[0;34m=\u001b[0m \u001b[0mx\u001b[0m\u001b[0;34m[\u001b[0m\u001b[0mi\u001b[0m\u001b[0;34m]\u001b[0m\u001b[0;34m\u001b[0m\u001b[0;34m\u001b[0m\u001b[0m\n\u001b[0;32m---> 15\u001b[0;31m    \u001b[0;32mreturn\u001b[0m \u001b[0mf\u001b[0m\u001b[0;34m.\u001b[0m\u001b[0msubs\u001b[0m\u001b[0;34m(\u001b[0m\u001b[0mmp\u001b[0m\u001b[0;34m)\u001b[0m\u001b[0;34m\u001b[0m\u001b[0;34m\u001b[0m\u001b[0m\n\u001b[0m\u001b[1;32m     16\u001b[0m \u001b[0;34m\u001b[0m\u001b[0m\n\u001b[1;32m     17\u001b[0m \u001b[0;31m# Retorna o gradiente simbólico\u001b[0m\u001b[0;34m\u001b[0m\u001b[0;34m\u001b[0m\u001b[0;34m\u001b[0m\u001b[0m\n",
            "\u001b[0;32m/usr/local/lib/python3.7/dist-packages/sympy/core/basic.py\u001b[0m in \u001b[0;36msubs\u001b[0;34m(self, *args, **kwargs)\u001b[0m\n\u001b[1;32m    946\u001b[0m             \u001b[0mrv\u001b[0m \u001b[0;34m=\u001b[0m \u001b[0mself\u001b[0m\u001b[0;34m\u001b[0m\u001b[0;34m\u001b[0m\u001b[0m\n\u001b[1;32m    947\u001b[0m             \u001b[0;32mfor\u001b[0m \u001b[0mold\u001b[0m\u001b[0;34m,\u001b[0m \u001b[0mnew\u001b[0m \u001b[0;32min\u001b[0m \u001b[0msequence\u001b[0m\u001b[0;34m:\u001b[0m\u001b[0;34m\u001b[0m\u001b[0;34m\u001b[0m\u001b[0m\n\u001b[0;32m--> 948\u001b[0;31m                 \u001b[0mrv\u001b[0m \u001b[0;34m=\u001b[0m \u001b[0mrv\u001b[0m\u001b[0;34m.\u001b[0m\u001b[0m_subs\u001b[0m\u001b[0;34m(\u001b[0m\u001b[0mold\u001b[0m\u001b[0;34m,\u001b[0m \u001b[0mnew\u001b[0m\u001b[0;34m,\u001b[0m \u001b[0;34m**\u001b[0m\u001b[0mkwargs\u001b[0m\u001b[0;34m)\u001b[0m\u001b[0;34m\u001b[0m\u001b[0;34m\u001b[0m\u001b[0m\n\u001b[0m\u001b[1;32m    949\u001b[0m                 \u001b[0;32mif\u001b[0m \u001b[0;32mnot\u001b[0m \u001b[0misinstance\u001b[0m\u001b[0;34m(\u001b[0m\u001b[0mrv\u001b[0m\u001b[0;34m,\u001b[0m \u001b[0mBasic\u001b[0m\u001b[0;34m)\u001b[0m\u001b[0;34m:\u001b[0m\u001b[0;34m\u001b[0m\u001b[0;34m\u001b[0m\u001b[0m\n\u001b[1;32m    950\u001b[0m                     \u001b[0;32mbreak\u001b[0m\u001b[0;34m\u001b[0m\u001b[0;34m\u001b[0m\u001b[0m\n",
            "\u001b[0;32m/usr/local/lib/python3.7/dist-packages/sympy/core/cache.py\u001b[0m in \u001b[0;36mwrapper\u001b[0;34m(*args, **kwargs)\u001b[0m\n\u001b[1;32m     70\u001b[0m         \u001b[0;32mdef\u001b[0m \u001b[0mwrapper\u001b[0m\u001b[0;34m(\u001b[0m\u001b[0;34m*\u001b[0m\u001b[0margs\u001b[0m\u001b[0;34m,\u001b[0m \u001b[0;34m**\u001b[0m\u001b[0mkwargs\u001b[0m\u001b[0;34m)\u001b[0m\u001b[0;34m:\u001b[0m\u001b[0;34m\u001b[0m\u001b[0;34m\u001b[0m\u001b[0m\n\u001b[1;32m     71\u001b[0m             \u001b[0;32mtry\u001b[0m\u001b[0;34m:\u001b[0m\u001b[0;34m\u001b[0m\u001b[0;34m\u001b[0m\u001b[0m\n\u001b[0;32m---> 72\u001b[0;31m                 \u001b[0mretval\u001b[0m \u001b[0;34m=\u001b[0m \u001b[0mcfunc\u001b[0m\u001b[0;34m(\u001b[0m\u001b[0;34m*\u001b[0m\u001b[0margs\u001b[0m\u001b[0;34m,\u001b[0m \u001b[0;34m**\u001b[0m\u001b[0mkwargs\u001b[0m\u001b[0;34m)\u001b[0m\u001b[0;34m\u001b[0m\u001b[0;34m\u001b[0m\u001b[0m\n\u001b[0m\u001b[1;32m     73\u001b[0m             \u001b[0;32mexcept\u001b[0m \u001b[0mTypeError\u001b[0m\u001b[0;34m:\u001b[0m\u001b[0;34m\u001b[0m\u001b[0;34m\u001b[0m\u001b[0m\n\u001b[1;32m     74\u001b[0m                 \u001b[0mretval\u001b[0m \u001b[0;34m=\u001b[0m \u001b[0mfunc\u001b[0m\u001b[0;34m(\u001b[0m\u001b[0;34m*\u001b[0m\u001b[0margs\u001b[0m\u001b[0;34m,\u001b[0m \u001b[0;34m**\u001b[0m\u001b[0mkwargs\u001b[0m\u001b[0;34m)\u001b[0m\u001b[0;34m\u001b[0m\u001b[0;34m\u001b[0m\u001b[0m\n",
            "\u001b[0;32m/usr/local/lib/python3.7/dist-packages/sympy/core/basic.py\u001b[0m in \u001b[0;36m_subs\u001b[0;34m(self, old, new, **hints)\u001b[0m\n\u001b[1;32m   1060\u001b[0m         \u001b[0mrv\u001b[0m \u001b[0;34m=\u001b[0m \u001b[0mself\u001b[0m\u001b[0;34m.\u001b[0m\u001b[0m_eval_subs\u001b[0m\u001b[0;34m(\u001b[0m\u001b[0mold\u001b[0m\u001b[0;34m,\u001b[0m \u001b[0mnew\u001b[0m\u001b[0;34m)\u001b[0m\u001b[0;34m\u001b[0m\u001b[0;34m\u001b[0m\u001b[0m\n\u001b[1;32m   1061\u001b[0m         \u001b[0;32mif\u001b[0m \u001b[0mrv\u001b[0m \u001b[0;32mis\u001b[0m \u001b[0;32mNone\u001b[0m\u001b[0;34m:\u001b[0m\u001b[0;34m\u001b[0m\u001b[0;34m\u001b[0m\u001b[0m\n\u001b[0;32m-> 1062\u001b[0;31m             \u001b[0mrv\u001b[0m \u001b[0;34m=\u001b[0m \u001b[0mfallback\u001b[0m\u001b[0;34m(\u001b[0m\u001b[0mself\u001b[0m\u001b[0;34m,\u001b[0m \u001b[0mold\u001b[0m\u001b[0;34m,\u001b[0m \u001b[0mnew\u001b[0m\u001b[0;34m)\u001b[0m\u001b[0;34m\u001b[0m\u001b[0;34m\u001b[0m\u001b[0m\n\u001b[0m\u001b[1;32m   1063\u001b[0m         \u001b[0;32mreturn\u001b[0m \u001b[0mrv\u001b[0m\u001b[0;34m\u001b[0m\u001b[0;34m\u001b[0m\u001b[0m\n\u001b[1;32m   1064\u001b[0m \u001b[0;34m\u001b[0m\u001b[0m\n",
            "\u001b[0;32m/usr/local/lib/python3.7/dist-packages/sympy/core/basic.py\u001b[0m in \u001b[0;36mfallback\u001b[0;34m(self, old, new)\u001b[0m\n\u001b[1;32m   1032\u001b[0m                 \u001b[0;32mif\u001b[0m \u001b[0;32mnot\u001b[0m \u001b[0mhasattr\u001b[0m\u001b[0;34m(\u001b[0m\u001b[0marg\u001b[0m\u001b[0;34m,\u001b[0m \u001b[0;34m'_eval_subs'\u001b[0m\u001b[0;34m)\u001b[0m\u001b[0;34m:\u001b[0m\u001b[0;34m\u001b[0m\u001b[0;34m\u001b[0m\u001b[0m\n\u001b[1;32m   1033\u001b[0m                     \u001b[0;32mcontinue\u001b[0m\u001b[0;34m\u001b[0m\u001b[0;34m\u001b[0m\u001b[0m\n\u001b[0;32m-> 1034\u001b[0;31m                 \u001b[0marg\u001b[0m \u001b[0;34m=\u001b[0m \u001b[0marg\u001b[0m\u001b[0;34m.\u001b[0m\u001b[0m_subs\u001b[0m\u001b[0;34m(\u001b[0m\u001b[0mold\u001b[0m\u001b[0;34m,\u001b[0m \u001b[0mnew\u001b[0m\u001b[0;34m,\u001b[0m \u001b[0;34m**\u001b[0m\u001b[0mhints\u001b[0m\u001b[0;34m)\u001b[0m\u001b[0;34m\u001b[0m\u001b[0;34m\u001b[0m\u001b[0m\n\u001b[0m\u001b[1;32m   1035\u001b[0m                 \u001b[0;32mif\u001b[0m \u001b[0;32mnot\u001b[0m \u001b[0m_aresame\u001b[0m\u001b[0;34m(\u001b[0m\u001b[0marg\u001b[0m\u001b[0;34m,\u001b[0m \u001b[0margs\u001b[0m\u001b[0;34m[\u001b[0m\u001b[0mi\u001b[0m\u001b[0;34m]\u001b[0m\u001b[0;34m)\u001b[0m\u001b[0;34m:\u001b[0m\u001b[0;34m\u001b[0m\u001b[0;34m\u001b[0m\u001b[0m\n\u001b[1;32m   1036\u001b[0m                     \u001b[0mhit\u001b[0m \u001b[0;34m=\u001b[0m \u001b[0;32mTrue\u001b[0m\u001b[0;34m\u001b[0m\u001b[0;34m\u001b[0m\u001b[0m\n",
            "\u001b[0;32m/usr/local/lib/python3.7/dist-packages/sympy/core/cache.py\u001b[0m in \u001b[0;36mwrapper\u001b[0;34m(*args, **kwargs)\u001b[0m\n\u001b[1;32m     70\u001b[0m         \u001b[0;32mdef\u001b[0m \u001b[0mwrapper\u001b[0m\u001b[0;34m(\u001b[0m\u001b[0;34m*\u001b[0m\u001b[0margs\u001b[0m\u001b[0;34m,\u001b[0m \u001b[0;34m**\u001b[0m\u001b[0mkwargs\u001b[0m\u001b[0;34m)\u001b[0m\u001b[0;34m:\u001b[0m\u001b[0;34m\u001b[0m\u001b[0;34m\u001b[0m\u001b[0m\n\u001b[1;32m     71\u001b[0m             \u001b[0;32mtry\u001b[0m\u001b[0;34m:\u001b[0m\u001b[0;34m\u001b[0m\u001b[0;34m\u001b[0m\u001b[0m\n\u001b[0;32m---> 72\u001b[0;31m                 \u001b[0mretval\u001b[0m \u001b[0;34m=\u001b[0m \u001b[0mcfunc\u001b[0m\u001b[0;34m(\u001b[0m\u001b[0;34m*\u001b[0m\u001b[0margs\u001b[0m\u001b[0;34m,\u001b[0m \u001b[0;34m**\u001b[0m\u001b[0mkwargs\u001b[0m\u001b[0;34m)\u001b[0m\u001b[0;34m\u001b[0m\u001b[0;34m\u001b[0m\u001b[0m\n\u001b[0m\u001b[1;32m     73\u001b[0m             \u001b[0;32mexcept\u001b[0m \u001b[0mTypeError\u001b[0m\u001b[0;34m:\u001b[0m\u001b[0;34m\u001b[0m\u001b[0;34m\u001b[0m\u001b[0m\n\u001b[1;32m     74\u001b[0m                 \u001b[0mretval\u001b[0m \u001b[0;34m=\u001b[0m \u001b[0mfunc\u001b[0m\u001b[0;34m(\u001b[0m\u001b[0;34m*\u001b[0m\u001b[0margs\u001b[0m\u001b[0;34m,\u001b[0m \u001b[0;34m**\u001b[0m\u001b[0mkwargs\u001b[0m\u001b[0;34m)\u001b[0m\u001b[0;34m\u001b[0m\u001b[0;34m\u001b[0m\u001b[0m\n",
            "\u001b[0;32m/usr/local/lib/python3.7/dist-packages/sympy/core/basic.py\u001b[0m in \u001b[0;36m_subs\u001b[0;34m(self, old, new, **hints)\u001b[0m\n\u001b[1;32m   1060\u001b[0m         \u001b[0mrv\u001b[0m \u001b[0;34m=\u001b[0m \u001b[0mself\u001b[0m\u001b[0;34m.\u001b[0m\u001b[0m_eval_subs\u001b[0m\u001b[0;34m(\u001b[0m\u001b[0mold\u001b[0m\u001b[0;34m,\u001b[0m \u001b[0mnew\u001b[0m\u001b[0;34m)\u001b[0m\u001b[0;34m\u001b[0m\u001b[0;34m\u001b[0m\u001b[0m\n\u001b[1;32m   1061\u001b[0m         \u001b[0;32mif\u001b[0m \u001b[0mrv\u001b[0m \u001b[0;32mis\u001b[0m \u001b[0;32mNone\u001b[0m\u001b[0;34m:\u001b[0m\u001b[0;34m\u001b[0m\u001b[0;34m\u001b[0m\u001b[0m\n\u001b[0;32m-> 1062\u001b[0;31m             \u001b[0mrv\u001b[0m \u001b[0;34m=\u001b[0m \u001b[0mfallback\u001b[0m\u001b[0;34m(\u001b[0m\u001b[0mself\u001b[0m\u001b[0;34m,\u001b[0m \u001b[0mold\u001b[0m\u001b[0;34m,\u001b[0m \u001b[0mnew\u001b[0m\u001b[0;34m)\u001b[0m\u001b[0;34m\u001b[0m\u001b[0;34m\u001b[0m\u001b[0m\n\u001b[0m\u001b[1;32m   1063\u001b[0m         \u001b[0;32mreturn\u001b[0m \u001b[0mrv\u001b[0m\u001b[0;34m\u001b[0m\u001b[0;34m\u001b[0m\u001b[0m\n\u001b[1;32m   1064\u001b[0m \u001b[0;34m\u001b[0m\u001b[0m\n",
            "\u001b[0;32m/usr/local/lib/python3.7/dist-packages/sympy/core/basic.py\u001b[0m in \u001b[0;36mfallback\u001b[0;34m(self, old, new)\u001b[0m\n\u001b[1;32m   1032\u001b[0m                 \u001b[0;32mif\u001b[0m \u001b[0;32mnot\u001b[0m \u001b[0mhasattr\u001b[0m\u001b[0;34m(\u001b[0m\u001b[0marg\u001b[0m\u001b[0;34m,\u001b[0m \u001b[0;34m'_eval_subs'\u001b[0m\u001b[0;34m)\u001b[0m\u001b[0;34m:\u001b[0m\u001b[0;34m\u001b[0m\u001b[0;34m\u001b[0m\u001b[0m\n\u001b[1;32m   1033\u001b[0m                     \u001b[0;32mcontinue\u001b[0m\u001b[0;34m\u001b[0m\u001b[0;34m\u001b[0m\u001b[0m\n\u001b[0;32m-> 1034\u001b[0;31m                 \u001b[0marg\u001b[0m \u001b[0;34m=\u001b[0m \u001b[0marg\u001b[0m\u001b[0;34m.\u001b[0m\u001b[0m_subs\u001b[0m\u001b[0;34m(\u001b[0m\u001b[0mold\u001b[0m\u001b[0;34m,\u001b[0m \u001b[0mnew\u001b[0m\u001b[0;34m,\u001b[0m \u001b[0;34m**\u001b[0m\u001b[0mhints\u001b[0m\u001b[0;34m)\u001b[0m\u001b[0;34m\u001b[0m\u001b[0;34m\u001b[0m\u001b[0m\n\u001b[0m\u001b[1;32m   1035\u001b[0m                 \u001b[0;32mif\u001b[0m \u001b[0;32mnot\u001b[0m \u001b[0m_aresame\u001b[0m\u001b[0;34m(\u001b[0m\u001b[0marg\u001b[0m\u001b[0;34m,\u001b[0m \u001b[0margs\u001b[0m\u001b[0;34m[\u001b[0m\u001b[0mi\u001b[0m\u001b[0;34m]\u001b[0m\u001b[0;34m)\u001b[0m\u001b[0;34m:\u001b[0m\u001b[0;34m\u001b[0m\u001b[0;34m\u001b[0m\u001b[0m\n\u001b[1;32m   1036\u001b[0m                     \u001b[0mhit\u001b[0m \u001b[0;34m=\u001b[0m \u001b[0;32mTrue\u001b[0m\u001b[0;34m\u001b[0m\u001b[0;34m\u001b[0m\u001b[0m\n",
            "\u001b[0;32m/usr/local/lib/python3.7/dist-packages/sympy/core/cache.py\u001b[0m in \u001b[0;36mwrapper\u001b[0;34m(*args, **kwargs)\u001b[0m\n\u001b[1;32m     70\u001b[0m         \u001b[0;32mdef\u001b[0m \u001b[0mwrapper\u001b[0m\u001b[0;34m(\u001b[0m\u001b[0;34m*\u001b[0m\u001b[0margs\u001b[0m\u001b[0;34m,\u001b[0m \u001b[0;34m**\u001b[0m\u001b[0mkwargs\u001b[0m\u001b[0;34m)\u001b[0m\u001b[0;34m:\u001b[0m\u001b[0;34m\u001b[0m\u001b[0;34m\u001b[0m\u001b[0m\n\u001b[1;32m     71\u001b[0m             \u001b[0;32mtry\u001b[0m\u001b[0;34m:\u001b[0m\u001b[0;34m\u001b[0m\u001b[0;34m\u001b[0m\u001b[0m\n\u001b[0;32m---> 72\u001b[0;31m                 \u001b[0mretval\u001b[0m \u001b[0;34m=\u001b[0m \u001b[0mcfunc\u001b[0m\u001b[0;34m(\u001b[0m\u001b[0;34m*\u001b[0m\u001b[0margs\u001b[0m\u001b[0;34m,\u001b[0m \u001b[0;34m**\u001b[0m\u001b[0mkwargs\u001b[0m\u001b[0;34m)\u001b[0m\u001b[0;34m\u001b[0m\u001b[0;34m\u001b[0m\u001b[0m\n\u001b[0m\u001b[1;32m     73\u001b[0m             \u001b[0;32mexcept\u001b[0m \u001b[0mTypeError\u001b[0m\u001b[0;34m:\u001b[0m\u001b[0;34m\u001b[0m\u001b[0;34m\u001b[0m\u001b[0m\n\u001b[1;32m     74\u001b[0m                 \u001b[0mretval\u001b[0m \u001b[0;34m=\u001b[0m \u001b[0mfunc\u001b[0m\u001b[0;34m(\u001b[0m\u001b[0;34m*\u001b[0m\u001b[0margs\u001b[0m\u001b[0;34m,\u001b[0m \u001b[0;34m**\u001b[0m\u001b[0mkwargs\u001b[0m\u001b[0;34m)\u001b[0m\u001b[0;34m\u001b[0m\u001b[0;34m\u001b[0m\u001b[0m\n",
            "\u001b[0;32m/usr/local/lib/python3.7/dist-packages/sympy/core/basic.py\u001b[0m in \u001b[0;36m_subs\u001b[0;34m(self, old, new, **hints)\u001b[0m\n\u001b[1;32m   1060\u001b[0m         \u001b[0mrv\u001b[0m \u001b[0;34m=\u001b[0m \u001b[0mself\u001b[0m\u001b[0;34m.\u001b[0m\u001b[0m_eval_subs\u001b[0m\u001b[0;34m(\u001b[0m\u001b[0mold\u001b[0m\u001b[0;34m,\u001b[0m \u001b[0mnew\u001b[0m\u001b[0;34m)\u001b[0m\u001b[0;34m\u001b[0m\u001b[0;34m\u001b[0m\u001b[0m\n\u001b[1;32m   1061\u001b[0m         \u001b[0;32mif\u001b[0m \u001b[0mrv\u001b[0m \u001b[0;32mis\u001b[0m \u001b[0;32mNone\u001b[0m\u001b[0;34m:\u001b[0m\u001b[0;34m\u001b[0m\u001b[0;34m\u001b[0m\u001b[0m\n\u001b[0;32m-> 1062\u001b[0;31m             \u001b[0mrv\u001b[0m \u001b[0;34m=\u001b[0m \u001b[0mfallback\u001b[0m\u001b[0;34m(\u001b[0m\u001b[0mself\u001b[0m\u001b[0;34m,\u001b[0m \u001b[0mold\u001b[0m\u001b[0;34m,\u001b[0m \u001b[0mnew\u001b[0m\u001b[0;34m)\u001b[0m\u001b[0;34m\u001b[0m\u001b[0;34m\u001b[0m\u001b[0m\n\u001b[0m\u001b[1;32m   1063\u001b[0m         \u001b[0;32mreturn\u001b[0m \u001b[0mrv\u001b[0m\u001b[0;34m\u001b[0m\u001b[0;34m\u001b[0m\u001b[0m\n\u001b[1;32m   1064\u001b[0m \u001b[0;34m\u001b[0m\u001b[0m\n",
            "\u001b[0;32m/usr/local/lib/python3.7/dist-packages/sympy/core/basic.py\u001b[0m in \u001b[0;36mfallback\u001b[0;34m(self, old, new)\u001b[0m\n\u001b[1;32m   1032\u001b[0m                 \u001b[0;32mif\u001b[0m \u001b[0;32mnot\u001b[0m \u001b[0mhasattr\u001b[0m\u001b[0;34m(\u001b[0m\u001b[0marg\u001b[0m\u001b[0;34m,\u001b[0m \u001b[0;34m'_eval_subs'\u001b[0m\u001b[0;34m)\u001b[0m\u001b[0;34m:\u001b[0m\u001b[0;34m\u001b[0m\u001b[0;34m\u001b[0m\u001b[0m\n\u001b[1;32m   1033\u001b[0m                     \u001b[0;32mcontinue\u001b[0m\u001b[0;34m\u001b[0m\u001b[0;34m\u001b[0m\u001b[0m\n\u001b[0;32m-> 1034\u001b[0;31m                 \u001b[0marg\u001b[0m \u001b[0;34m=\u001b[0m \u001b[0marg\u001b[0m\u001b[0;34m.\u001b[0m\u001b[0m_subs\u001b[0m\u001b[0;34m(\u001b[0m\u001b[0mold\u001b[0m\u001b[0;34m,\u001b[0m \u001b[0mnew\u001b[0m\u001b[0;34m,\u001b[0m \u001b[0;34m**\u001b[0m\u001b[0mhints\u001b[0m\u001b[0;34m)\u001b[0m\u001b[0;34m\u001b[0m\u001b[0;34m\u001b[0m\u001b[0m\n\u001b[0m\u001b[1;32m   1035\u001b[0m                 \u001b[0;32mif\u001b[0m \u001b[0;32mnot\u001b[0m \u001b[0m_aresame\u001b[0m\u001b[0;34m(\u001b[0m\u001b[0marg\u001b[0m\u001b[0;34m,\u001b[0m \u001b[0margs\u001b[0m\u001b[0;34m[\u001b[0m\u001b[0mi\u001b[0m\u001b[0;34m]\u001b[0m\u001b[0;34m)\u001b[0m\u001b[0;34m:\u001b[0m\u001b[0;34m\u001b[0m\u001b[0;34m\u001b[0m\u001b[0m\n\u001b[1;32m   1036\u001b[0m                     \u001b[0mhit\u001b[0m \u001b[0;34m=\u001b[0m \u001b[0;32mTrue\u001b[0m\u001b[0;34m\u001b[0m\u001b[0;34m\u001b[0m\u001b[0m\n",
            "\u001b[0;32m/usr/local/lib/python3.7/dist-packages/sympy/core/cache.py\u001b[0m in \u001b[0;36mwrapper\u001b[0;34m(*args, **kwargs)\u001b[0m\n\u001b[1;32m     70\u001b[0m         \u001b[0;32mdef\u001b[0m \u001b[0mwrapper\u001b[0m\u001b[0;34m(\u001b[0m\u001b[0;34m*\u001b[0m\u001b[0margs\u001b[0m\u001b[0;34m,\u001b[0m \u001b[0;34m**\u001b[0m\u001b[0mkwargs\u001b[0m\u001b[0;34m)\u001b[0m\u001b[0;34m:\u001b[0m\u001b[0;34m\u001b[0m\u001b[0;34m\u001b[0m\u001b[0m\n\u001b[1;32m     71\u001b[0m             \u001b[0;32mtry\u001b[0m\u001b[0;34m:\u001b[0m\u001b[0;34m\u001b[0m\u001b[0;34m\u001b[0m\u001b[0m\n\u001b[0;32m---> 72\u001b[0;31m                 \u001b[0mretval\u001b[0m \u001b[0;34m=\u001b[0m \u001b[0mcfunc\u001b[0m\u001b[0;34m(\u001b[0m\u001b[0;34m*\u001b[0m\u001b[0margs\u001b[0m\u001b[0;34m,\u001b[0m \u001b[0;34m**\u001b[0m\u001b[0mkwargs\u001b[0m\u001b[0;34m)\u001b[0m\u001b[0;34m\u001b[0m\u001b[0;34m\u001b[0m\u001b[0m\n\u001b[0m\u001b[1;32m     73\u001b[0m             \u001b[0;32mexcept\u001b[0m \u001b[0mTypeError\u001b[0m\u001b[0;34m:\u001b[0m\u001b[0;34m\u001b[0m\u001b[0;34m\u001b[0m\u001b[0m\n\u001b[1;32m     74\u001b[0m                 \u001b[0mretval\u001b[0m \u001b[0;34m=\u001b[0m \u001b[0mfunc\u001b[0m\u001b[0;34m(\u001b[0m\u001b[0;34m*\u001b[0m\u001b[0margs\u001b[0m\u001b[0;34m,\u001b[0m \u001b[0;34m**\u001b[0m\u001b[0mkwargs\u001b[0m\u001b[0;34m)\u001b[0m\u001b[0;34m\u001b[0m\u001b[0;34m\u001b[0m\u001b[0m\n",
            "\u001b[0;32m/usr/local/lib/python3.7/dist-packages/sympy/core/basic.py\u001b[0m in \u001b[0;36m_subs\u001b[0;34m(self, old, new, **hints)\u001b[0m\n\u001b[1;32m   1060\u001b[0m         \u001b[0mrv\u001b[0m \u001b[0;34m=\u001b[0m \u001b[0mself\u001b[0m\u001b[0;34m.\u001b[0m\u001b[0m_eval_subs\u001b[0m\u001b[0;34m(\u001b[0m\u001b[0mold\u001b[0m\u001b[0;34m,\u001b[0m \u001b[0mnew\u001b[0m\u001b[0;34m)\u001b[0m\u001b[0;34m\u001b[0m\u001b[0;34m\u001b[0m\u001b[0m\n\u001b[1;32m   1061\u001b[0m         \u001b[0;32mif\u001b[0m \u001b[0mrv\u001b[0m \u001b[0;32mis\u001b[0m \u001b[0;32mNone\u001b[0m\u001b[0;34m:\u001b[0m\u001b[0;34m\u001b[0m\u001b[0;34m\u001b[0m\u001b[0m\n\u001b[0;32m-> 1062\u001b[0;31m             \u001b[0mrv\u001b[0m \u001b[0;34m=\u001b[0m \u001b[0mfallback\u001b[0m\u001b[0;34m(\u001b[0m\u001b[0mself\u001b[0m\u001b[0;34m,\u001b[0m \u001b[0mold\u001b[0m\u001b[0;34m,\u001b[0m \u001b[0mnew\u001b[0m\u001b[0;34m)\u001b[0m\u001b[0;34m\u001b[0m\u001b[0;34m\u001b[0m\u001b[0m\n\u001b[0m\u001b[1;32m   1063\u001b[0m         \u001b[0;32mreturn\u001b[0m \u001b[0mrv\u001b[0m\u001b[0;34m\u001b[0m\u001b[0;34m\u001b[0m\u001b[0m\n\u001b[1;32m   1064\u001b[0m \u001b[0;34m\u001b[0m\u001b[0m\n",
            "\u001b[0;32m/usr/local/lib/python3.7/dist-packages/sympy/core/basic.py\u001b[0m in \u001b[0;36mfallback\u001b[0;34m(self, old, new)\u001b[0m\n\u001b[1;32m   1033\u001b[0m                     \u001b[0;32mcontinue\u001b[0m\u001b[0;34m\u001b[0m\u001b[0;34m\u001b[0m\u001b[0m\n\u001b[1;32m   1034\u001b[0m                 \u001b[0marg\u001b[0m \u001b[0;34m=\u001b[0m \u001b[0marg\u001b[0m\u001b[0;34m.\u001b[0m\u001b[0m_subs\u001b[0m\u001b[0;34m(\u001b[0m\u001b[0mold\u001b[0m\u001b[0;34m,\u001b[0m \u001b[0mnew\u001b[0m\u001b[0;34m,\u001b[0m \u001b[0;34m**\u001b[0m\u001b[0mhints\u001b[0m\u001b[0;34m)\u001b[0m\u001b[0;34m\u001b[0m\u001b[0;34m\u001b[0m\u001b[0m\n\u001b[0;32m-> 1035\u001b[0;31m                 \u001b[0;32mif\u001b[0m \u001b[0;32mnot\u001b[0m \u001b[0m_aresame\u001b[0m\u001b[0;34m(\u001b[0m\u001b[0marg\u001b[0m\u001b[0;34m,\u001b[0m \u001b[0margs\u001b[0m\u001b[0;34m[\u001b[0m\u001b[0mi\u001b[0m\u001b[0;34m]\u001b[0m\u001b[0;34m)\u001b[0m\u001b[0;34m:\u001b[0m\u001b[0;34m\u001b[0m\u001b[0;34m\u001b[0m\u001b[0m\n\u001b[0m\u001b[1;32m   1036\u001b[0m                     \u001b[0mhit\u001b[0m \u001b[0;34m=\u001b[0m \u001b[0;32mTrue\u001b[0m\u001b[0;34m\u001b[0m\u001b[0;34m\u001b[0m\u001b[0m\n\u001b[1;32m   1037\u001b[0m                     \u001b[0margs\u001b[0m\u001b[0;34m[\u001b[0m\u001b[0mi\u001b[0m\u001b[0;34m]\u001b[0m \u001b[0;34m=\u001b[0m \u001b[0marg\u001b[0m\u001b[0;34m\u001b[0m\u001b[0;34m\u001b[0m\u001b[0m\n",
            "\u001b[0;32m/usr/local/lib/python3.7/dist-packages/sympy/core/basic.py\u001b[0m in \u001b[0;36m_aresame\u001b[0;34m(a, b)\u001b[0m\n\u001b[1;32m   1885\u001b[0m         \u001b[0;32mreturn\u001b[0m \u001b[0ma\u001b[0m \u001b[0;34m==\u001b[0m \u001b[0mb\u001b[0m \u001b[0;32mand\u001b[0m \u001b[0ma\u001b[0m\u001b[0;34m.\u001b[0m\u001b[0m__class__\u001b[0m \u001b[0;34m==\u001b[0m \u001b[0mb\u001b[0m\u001b[0;34m.\u001b[0m\u001b[0m__class__\u001b[0m\u001b[0;34m\u001b[0m\u001b[0;34m\u001b[0m\u001b[0m\n\u001b[1;32m   1886\u001b[0m     \u001b[0;32mfor\u001b[0m \u001b[0mi\u001b[0m\u001b[0;34m,\u001b[0m \u001b[0mj\u001b[0m \u001b[0;32min\u001b[0m \u001b[0mzip_longest\u001b[0m\u001b[0;34m(\u001b[0m\u001b[0mpreorder_traversal\u001b[0m\u001b[0;34m(\u001b[0m\u001b[0ma\u001b[0m\u001b[0;34m)\u001b[0m\u001b[0;34m,\u001b[0m \u001b[0mpreorder_traversal\u001b[0m\u001b[0;34m(\u001b[0m\u001b[0mb\u001b[0m\u001b[0;34m)\u001b[0m\u001b[0;34m)\u001b[0m\u001b[0;34m:\u001b[0m\u001b[0;34m\u001b[0m\u001b[0;34m\u001b[0m\u001b[0m\n\u001b[0;32m-> 1887\u001b[0;31m         \u001b[0;32mif\u001b[0m \u001b[0mi\u001b[0m \u001b[0;34m!=\u001b[0m \u001b[0mj\u001b[0m \u001b[0;32mor\u001b[0m \u001b[0mtype\u001b[0m\u001b[0;34m(\u001b[0m\u001b[0mi\u001b[0m\u001b[0;34m)\u001b[0m \u001b[0;34m!=\u001b[0m \u001b[0mtype\u001b[0m\u001b[0;34m(\u001b[0m\u001b[0mj\u001b[0m\u001b[0;34m)\u001b[0m\u001b[0;34m:\u001b[0m\u001b[0;34m\u001b[0m\u001b[0;34m\u001b[0m\u001b[0m\n\u001b[0m\u001b[1;32m   1888\u001b[0m             if ((isinstance(i, UndefFunc) and isinstance(j, UndefFunc)) or\n\u001b[1;32m   1889\u001b[0m                 (isinstance(i, AppliedUndef) and isinstance(j, AppliedUndef))):\n",
            "\u001b[0;32m/usr/local/lib/python3.7/dist-packages/sympy/core/basic.py\u001b[0m in \u001b[0;36m__ne__\u001b[0;34m(self, other)\u001b[0m\n\u001b[1;32m    365\u001b[0m         \u001b[0mbut\u001b[0m \u001b[0mfaster\u001b[0m\u001b[0;34m\u001b[0m\u001b[0;34m\u001b[0m\u001b[0m\n\u001b[1;32m    366\u001b[0m         \"\"\"\n\u001b[0;32m--> 367\u001b[0;31m         \u001b[0;32mreturn\u001b[0m \u001b[0;32mnot\u001b[0m \u001b[0mself\u001b[0m \u001b[0;34m==\u001b[0m \u001b[0mother\u001b[0m\u001b[0;34m\u001b[0m\u001b[0;34m\u001b[0m\u001b[0m\n\u001b[0m\u001b[1;32m    368\u001b[0m \u001b[0;34m\u001b[0m\u001b[0m\n\u001b[1;32m    369\u001b[0m     \u001b[0;32mdef\u001b[0m \u001b[0mdummy_eq\u001b[0m\u001b[0;34m(\u001b[0m\u001b[0mself\u001b[0m\u001b[0;34m,\u001b[0m \u001b[0mother\u001b[0m\u001b[0;34m,\u001b[0m \u001b[0msymbol\u001b[0m\u001b[0;34m=\u001b[0m\u001b[0;32mNone\u001b[0m\u001b[0;34m)\u001b[0m\u001b[0;34m:\u001b[0m\u001b[0;34m\u001b[0m\u001b[0;34m\u001b[0m\u001b[0m\n",
            "\u001b[0;32m/usr/local/lib/python3.7/dist-packages/sympy/core/expr.py\u001b[0m in \u001b[0;36m__eq__\u001b[0;34m(self, other)\u001b[0m\n\u001b[1;32m    141\u001b[0m             \u001b[0;32mreturn\u001b[0m \u001b[0;32mFalse\u001b[0m\u001b[0;34m\u001b[0m\u001b[0;34m\u001b[0m\u001b[0m\n\u001b[1;32m    142\u001b[0m         \u001b[0;31m# check for pure number expr\u001b[0m\u001b[0;34m\u001b[0m\u001b[0;34m\u001b[0m\u001b[0;34m\u001b[0m\u001b[0m\n\u001b[0;32m--> 143\u001b[0;31m         if  not (self.is_Number and other.is_Number) and (\n\u001b[0m\u001b[1;32m    144\u001b[0m                 type(self) != type(other)):\n\u001b[1;32m    145\u001b[0m             \u001b[0;32mreturn\u001b[0m \u001b[0;32mFalse\u001b[0m\u001b[0;34m\u001b[0m\u001b[0;34m\u001b[0m\u001b[0m\n",
            "\u001b[0;31mKeyboardInterrupt\u001b[0m: "
          ]
        }
      ]
    },
    {
      "cell_type": "code",
      "metadata": {
        "id": "zsnSn2_XnkPw"
      },
      "source": [
        "y"
      ],
      "execution_count": null,
      "outputs": []
    },
    {
      "cell_type": "code",
      "metadata": {
        "id": "gLZTcKXank9D"
      },
      "source": [
        "table"
      ],
      "execution_count": null,
      "outputs": []
    },
    {
      "cell_type": "markdown",
      "metadata": {
        "id": "VOjBj-p7gEvz"
      },
      "source": [
        "Este trecho foi interrompido pois depois de aproximadamente 40 min, o gradiente começou a aumentar, se distanciando, portanto, da solução. Desse modo, não houve a convergência deste método usando 50 variáveis. Isso se deve à grande quantidade de vetores extensos e necessidade de manupulação destes para resolver o problema. "
      ]
    },
    {
      "cell_type": "markdown",
      "metadata": {
        "id": "A-exSPfoxsRK"
      },
      "source": [
        "**2.** Resolva:\n",
        "\n",
        "Minimizar $(x_1 - x^3_2)^2 + 3(x_1 - x_2)^4$"
      ]
    },
    {
      "cell_type": "code",
      "metadata": {
        "id": "-v1HrF3g2w2n"
      },
      "source": [
        "import numpy as np\n",
        "import sympy as sym \n",
        "import pandas as pd\n",
        "import math\n",
        "\n",
        "x1 = sym.Symbol('x1')\n",
        "x2 = sym.Symbol('x2')\n",
        "variaveis = [x1,x2]\n",
        "\n",
        "c = variaveis\n",
        "\n",
        "def fo(c):\n",
        "     return (c[0] - c[1]**3)**2 + 3*(c[0] - c[1])**4\n",
        "\n",
        "x = [1.2,1.5]\n",
        "\n",
        "eps = 1e-3\n",
        "nmax = 7\n",
        "p  = Parametros(fo(c),x,c,eps)\n",
        "y,table = Davidon_Fletcher_Powell(p)"
      ],
      "execution_count": null,
      "outputs": []
    },
    {
      "cell_type": "code",
      "metadata": {
        "colab": {
          "base_uri": "https://localhost:8080/"
        },
        "id": "kZ2505PrifCI",
        "outputId": "be392edd-921d-4d22-daf4-53640f4b86ad"
      },
      "source": [
        "y"
      ],
      "execution_count": null,
      "outputs": [
        {
          "output_type": "execute_result",
          "data": {
            "text/plain": [
              "[1.05453004230805, 1.01789085244265]"
            ]
          },
          "metadata": {
            "tags": []
          },
          "execution_count": 15
        }
      ]
    },
    {
      "cell_type": "code",
      "metadata": {
        "id": "TnfYqlW9Ly4D",
        "colab": {
          "base_uri": "https://localhost:8080/",
          "height": 576
        },
        "outputId": "277e7989-7758-45da-f6a3-e2c12df7d7ac"
      },
      "source": [
        "table"
      ],
      "execution_count": null,
      "outputs": [
        {
          "output_type": "execute_result",
          "data": {
            "text/html": [
              "<div>\n",
              "<style scoped>\n",
              "    .dataframe tbody tr th:only-of-type {\n",
              "        vertical-align: middle;\n",
              "    }\n",
              "\n",
              "    .dataframe tbody tr th {\n",
              "        vertical-align: top;\n",
              "    }\n",
              "\n",
              "    .dataframe thead th {\n",
              "        text-align: right;\n",
              "    }\n",
              "</style>\n",
              "<table border=\"1\" class=\"dataframe\">\n",
              "  <thead>\n",
              "    <tr style=\"text-align: right;\">\n",
              "      <th></th>\n",
              "      <th>x</th>\n",
              "      <th>y</th>\n",
              "      <th>df(x)</th>\n",
              "    </tr>\n",
              "  </thead>\n",
              "  <tbody>\n",
              "    <tr>\n",
              "      <th>0</th>\n",
              "      <td>[1.2, 1.5]</td>\n",
              "      <td>[1.26535873347338, 1.08487975154954]</td>\n",
              "      <td>[0.0475326522102890, 0.0107070255988813]</td>\n",
              "    </tr>\n",
              "    <tr>\n",
              "      <th>1</th>\n",
              "      <td>[1.21320466631612, 1.07585039918436]</td>\n",
              "      <td>[1.21320466631612, 1.07585039918436]</td>\n",
              "      <td>[0.0475326522102890, 0.0107070255988813]</td>\n",
              "    </tr>\n",
              "    <tr>\n",
              "      <th>2</th>\n",
              "      <td>[1.21320466631612, 1.07585039918436]</td>\n",
              "      <td>[1.19385242940156, 1.07149118743402]</td>\n",
              "      <td>[-0.0506546747373421, 0.228204703643416]</td>\n",
              "    </tr>\n",
              "    <tr>\n",
              "      <th>3</th>\n",
              "      <td>[1.17172646122159, 1.05388219082351]</td>\n",
              "      <td>[1.17172646122159, 1.05388219082351]</td>\n",
              "      <td>[-0.0506546747373421, 0.228204703643416]</td>\n",
              "    </tr>\n",
              "    <tr>\n",
              "      <th>4</th>\n",
              "      <td>[1.17172646122159, 1.05388219082351]</td>\n",
              "      <td>[1.17144866336849, 1.05513369973298]</td>\n",
              "      <td>[0.0124053367750883, 0.00275361755094361]</td>\n",
              "    </tr>\n",
              "    <tr>\n",
              "      <th>5</th>\n",
              "      <td>[1.12320180547598, 1.04187681579765]</td>\n",
              "      <td>[1.12320180547598, 1.04187681579765]</td>\n",
              "      <td>[0.0124053367750883, 0.00275361755094361]</td>\n",
              "    </tr>\n",
              "    <tr>\n",
              "      <th>6</th>\n",
              "      <td>[1.12320180547598, 1.04187681579765]</td>\n",
              "      <td>[1.12082641102867, 1.04134954854492]</td>\n",
              "      <td>[-0.0108203223147021, 0.0487749740716879]</td>\n",
              "    </tr>\n",
              "    <tr>\n",
              "      <th>7</th>\n",
              "      <td>[1.11387010795007, 1.03646728218220]</td>\n",
              "      <td>[1.11387010795007, 1.03646728218220]</td>\n",
              "      <td>[-0.0108203223147021, 0.0487749740716879]</td>\n",
              "    </tr>\n",
              "    <tr>\n",
              "      <th>8</th>\n",
              "      <td>[1.11387010795007, 1.03646728218220]</td>\n",
              "      <td>[1.11378004399109, 1.03687326521452]</td>\n",
              "      <td>[0.00352092457619746, 0.000790848090488658]</td>\n",
              "    </tr>\n",
              "    <tr>\n",
              "      <th>9</th>\n",
              "      <td>[1.08117662184621, 1.02736932370259]</td>\n",
              "      <td>[1.08117662184621, 1.02736932370259]</td>\n",
              "      <td>[0.00352092457619746, 0.000790848090488658]</td>\n",
              "    </tr>\n",
              "    <tr>\n",
              "      <th>10</th>\n",
              "      <td>[1.08117662184621, 1.02736932370259]</td>\n",
              "      <td>[1.08289671544652, 1.02775568038528]</td>\n",
              "      <td>[-0.00339378476439923, 0.0151178742600304]</td>\n",
              "    </tr>\n",
              "    <tr>\n",
              "      <th>11</th>\n",
              "      <td>[1.08229078007844, 1.02676292586343]</td>\n",
              "      <td>[1.08229078007844, 1.02676292586343]</td>\n",
              "      <td>[-0.00339378476439923, 0.0151178742600304]</td>\n",
              "    </tr>\n",
              "    <tr>\n",
              "      <th>12</th>\n",
              "      <td>[1.08229078007844, 1.02676292586343]</td>\n",
              "      <td>[1.08227726430907, 1.02682313289367]</td>\n",
              "      <td>[0.00130661544784256, 0.000293533426851037]</td>\n",
              "    </tr>\n",
              "    <tr>\n",
              "      <th>13</th>\n",
              "      <td>[1.05575092270299, 1.01850357077861]</td>\n",
              "      <td>[1.05575092270299, 1.01850357077861]</td>\n",
              "      <td>[0.00130661544784256, 0.000293533426851037]</td>\n",
              "    </tr>\n",
              "    <tr>\n",
              "      <th>14</th>\n",
              "      <td>[1.05575092270299, 1.01850357077861]</td>\n",
              "      <td>[1.05573460550716, 1.01849990509227]</td>\n",
              "      <td>[-0.000976885022259920, 0.00434844233969078]</td>\n",
              "    </tr>\n",
              "    <tr>\n",
              "      <th>15</th>\n",
              "      <td>[1.05454761510246, 1.01781263005055]</td>\n",
              "      <td>[1.05454761510246, 1.01781263005055]</td>\n",
              "      <td>[-0.000976885022259920, 0.00434844233969078]</td>\n",
              "    </tr>\n",
              "    <tr>\n",
              "      <th>16</th>\n",
              "      <td>[1.05454761510246, 1.01781263005055]</td>\n",
              "      <td>[1.05453004230805, 1.01789085244265]</td>\n",
              "      <td>[0.000373247926976385, 8.42095303715040e-5]</td>\n",
              "    </tr>\n",
              "  </tbody>\n",
              "</table>\n",
              "</div>"
            ],
            "text/plain": [
              "                                       x  ...                                         df(x)\n",
              "0                             [1.2, 1.5]  ...      [0.0475326522102890, 0.0107070255988813]\n",
              "1   [1.21320466631612, 1.07585039918436]  ...      [0.0475326522102890, 0.0107070255988813]\n",
              "2   [1.21320466631612, 1.07585039918436]  ...      [-0.0506546747373421, 0.228204703643416]\n",
              "3   [1.17172646122159, 1.05388219082351]  ...      [-0.0506546747373421, 0.228204703643416]\n",
              "4   [1.17172646122159, 1.05388219082351]  ...     [0.0124053367750883, 0.00275361755094361]\n",
              "5   [1.12320180547598, 1.04187681579765]  ...     [0.0124053367750883, 0.00275361755094361]\n",
              "6   [1.12320180547598, 1.04187681579765]  ...     [-0.0108203223147021, 0.0487749740716879]\n",
              "7   [1.11387010795007, 1.03646728218220]  ...     [-0.0108203223147021, 0.0487749740716879]\n",
              "8   [1.11387010795007, 1.03646728218220]  ...   [0.00352092457619746, 0.000790848090488658]\n",
              "9   [1.08117662184621, 1.02736932370259]  ...   [0.00352092457619746, 0.000790848090488658]\n",
              "10  [1.08117662184621, 1.02736932370259]  ...    [-0.00339378476439923, 0.0151178742600304]\n",
              "11  [1.08229078007844, 1.02676292586343]  ...    [-0.00339378476439923, 0.0151178742600304]\n",
              "12  [1.08229078007844, 1.02676292586343]  ...   [0.00130661544784256, 0.000293533426851037]\n",
              "13  [1.05575092270299, 1.01850357077861]  ...   [0.00130661544784256, 0.000293533426851037]\n",
              "14  [1.05575092270299, 1.01850357077861]  ...  [-0.000976885022259920, 0.00434844233969078]\n",
              "15  [1.05454761510246, 1.01781263005055]  ...  [-0.000976885022259920, 0.00434844233969078]\n",
              "16  [1.05454761510246, 1.01781263005055]  ...   [0.000373247926976385, 8.42095303715040e-5]\n",
              "\n",
              "[17 rows x 3 columns]"
            ]
          },
          "metadata": {
            "tags": []
          },
          "execution_count": 16
        }
      ]
    },
    {
      "cell_type": "markdown",
      "metadata": {
        "id": "UA9MvErSxxGW"
      },
      "source": [
        "**3.** Resolva:\n",
        "\n",
        "\n",
        "\n",
        "$2(x_1 - 2)^4 + (2x_1 - x_2)^2 = 4$\n"
      ]
    },
    {
      "cell_type": "code",
      "metadata": {
        "id": "RMQ9M5FZJm_J"
      },
      "source": [
        "import numpy as np\n",
        "import sympy as sym \n",
        "\n",
        "x1 = sym.Symbol('x1')\n",
        "x2 = sym.Symbol('x2')\n",
        "c = [x1,x2]\n",
        "\n",
        "def fo(c):\n",
        "     return (2*(c[0] - 2)**4 + (2*c[0] - c[1])**2 - 4)**2\n",
        "\n",
        "x = [1.2,2]\n",
        "\n",
        "eps = 1e-3\n",
        "nmax = 7\n",
        "p  = Parametros(fo(c),x,c,eps)\n",
        "y,table = Davidon_Fletcher_Powell(p)"
      ],
      "execution_count": null,
      "outputs": []
    },
    {
      "cell_type": "code",
      "metadata": {
        "colab": {
          "base_uri": "https://localhost:8080/"
        },
        "id": "TzgS9IBqia-H",
        "outputId": "f6ce323b-f09b-4d73-8294-d10c172ce87a"
      },
      "source": [
        "y"
      ],
      "execution_count": null,
      "outputs": [
        {
          "output_type": "execute_result",
          "data": {
            "text/plain": [
              "[1.97585164252150, 3.95169228507291]"
            ]
          },
          "metadata": {
            "tags": []
          },
          "execution_count": 18
        }
      ]
    },
    {
      "cell_type": "code",
      "metadata": {
        "colab": {
          "base_uri": "https://localhost:8080/",
          "height": 762
        },
        "id": "_IaHIvJLiclf",
        "outputId": "b1e5d916-c24b-492f-be93-9051db356b01"
      },
      "source": [
        "table"
      ],
      "execution_count": null,
      "outputs": [
        {
          "output_type": "execute_result",
          "data": {
            "text/html": [
              "<div>\n",
              "<style scoped>\n",
              "    .dataframe tbody tr th:only-of-type {\n",
              "        vertical-align: middle;\n",
              "    }\n",
              "\n",
              "    .dataframe tbody tr th {\n",
              "        vertical-align: top;\n",
              "    }\n",
              "\n",
              "    .dataframe thead th {\n",
              "        text-align: right;\n",
              "    }\n",
              "</style>\n",
              "<table border=\"1\" class=\"dataframe\">\n",
              "  <thead>\n",
              "    <tr style=\"text-align: right;\">\n",
              "      <th></th>\n",
              "      <th>x</th>\n",
              "      <th>y</th>\n",
              "      <th>df(x)</th>\n",
              "    </tr>\n",
              "  </thead>\n",
              "  <tbody>\n",
              "    <tr>\n",
              "      <th>0</th>\n",
              "      <td>[1.2, 2.0]</td>\n",
              "      <td>[1.35045430325702, 2.04822253309520]</td>\n",
              "      <td>[-2.69247368424650, 8.40133714524466]</td>\n",
              "    </tr>\n",
              "    <tr>\n",
              "      <th>1</th>\n",
              "      <td>[1.58717567512133, 3.26408285714833]</td>\n",
              "      <td>[1.58717567512133, 3.26408285714833]</td>\n",
              "      <td>[-2.69247368424650, 8.40133714524466]</td>\n",
              "    </tr>\n",
              "    <tr>\n",
              "      <th>2</th>\n",
              "      <td>[1.58717567512133, 3.26408285714833]</td>\n",
              "      <td>[1.61350853538107, 3.18191632072678]</td>\n",
              "      <td>[2.22538489024428, 0.713194351729630]</td>\n",
              "    </tr>\n",
              "    <tr>\n",
              "      <th>3</th>\n",
              "      <td>[1.66334938968787, 3.21406511684388]</td>\n",
              "      <td>[1.66334938968787, 3.21406511684388]</td>\n",
              "      <td>[2.22538489024428, 0.713194351729630]</td>\n",
              "    </tr>\n",
              "    <tr>\n",
              "      <th>4</th>\n",
              "      <td>[1.66334938968787, 3.21406511684388]</td>\n",
              "      <td>[1.65467907947995, 3.21128644413196]</td>\n",
              "      <td>[-0.498097504414925, 1.55421796638029]</td>\n",
              "    </tr>\n",
              "    <tr>\n",
              "      <th>5</th>\n",
              "      <td>[1.76884028190128, 3.57833837067244]</td>\n",
              "      <td>[1.76884028190128, 3.57833837067244]</td>\n",
              "      <td>[-0.498097504414925, 1.55421796638029]</td>\n",
              "    </tr>\n",
              "    <tr>\n",
              "      <th>6</th>\n",
              "      <td>[1.76884028190128, 3.57833837067244]</td>\n",
              "      <td>[1.77844014230379, 3.54838384293424]</td>\n",
              "      <td>[0.423665595991962, 0.135776821850525]</td>\n",
              "    </tr>\n",
              "    <tr>\n",
              "      <th>7</th>\n",
              "      <td>[1.79211383206660, 3.55740885010328]</td>\n",
              "      <td>[1.79211383206660, 3.55740885010328]</td>\n",
              "      <td>[0.423665595991962, 0.135776821850525]</td>\n",
              "    </tr>\n",
              "    <tr>\n",
              "      <th>8</th>\n",
              "      <td>[1.79211383206660, 3.55740885010328]</td>\n",
              "      <td>[1.78939250127265, 3.55653671498091]</td>\n",
              "      <td>[-0.113956153248817, 0.355578378252645]</td>\n",
              "    </tr>\n",
              "    <tr>\n",
              "      <th>9</th>\n",
              "      <td>[1.87992678379448, 3.77612770095414]</td>\n",
              "      <td>[1.87992678379448, 3.77612770095414]</td>\n",
              "      <td>[-0.113956153248817, 0.355578378252645]</td>\n",
              "    </tr>\n",
              "    <tr>\n",
              "      <th>10</th>\n",
              "      <td>[1.87992678379448, 3.77612770095414]</td>\n",
              "      <td>[1.88334732139263, 3.76545456767236]</td>\n",
              "      <td>[0.0619049190279326, 0.0198393571460691]</td>\n",
              "    </tr>\n",
              "    <tr>\n",
              "      <th>11</th>\n",
              "      <td>[1.88533850566193, 3.76653686545886]</td>\n",
              "      <td>[1.88533850566193, 3.76653686545886]</td>\n",
              "      <td>[0.0619049190279326, 0.0198393571460691]</td>\n",
              "    </tr>\n",
              "    <tr>\n",
              "      <th>12</th>\n",
              "      <td>[1.88533850566193, 3.76653686545886]</td>\n",
              "      <td>[1.88502845011569, 3.76643749851333]</td>\n",
              "      <td>[-0.0185553956494742, 0.0579051785558165]</td>\n",
              "    </tr>\n",
              "    <tr>\n",
              "      <th>13</th>\n",
              "      <td>[1.94513359596402, 3.89279509740138]</td>\n",
              "      <td>[1.94513359596402, 3.89279509740138]</td>\n",
              "      <td>[-0.0185553956494742, 0.0579051785558165]</td>\n",
              "    </tr>\n",
              "    <tr>\n",
              "      <th>14</th>\n",
              "      <td>[1.94513359596402, 3.89279509740138]</td>\n",
              "      <td>[1.94565175195275, 3.89117810600902]</td>\n",
              "      <td>[0.00626117040587103, 0.00200635758333732]</td>\n",
              "    </tr>\n",
              "    <tr>\n",
              "      <th>15</th>\n",
              "      <td>[1.94583964753411, 3.89126541037764]</td>\n",
              "      <td>[1.94583964753411, 3.89126541037764]</td>\n",
              "      <td>[0.00626117040587103, 0.00200635758333732]</td>\n",
              "    </tr>\n",
              "    <tr>\n",
              "      <th>16</th>\n",
              "      <td>[1.94583964753411, 3.89126541037764]</td>\n",
              "      <td>[1.94581875945721, 3.89125871690841]</td>\n",
              "      <td>[-0.00194214729852917, 0.00606080576329611]</td>\n",
              "    </tr>\n",
              "    <tr>\n",
              "      <th>17</th>\n",
              "      <td>[1.96391747270432, 3.92775288327737]</td>\n",
              "      <td>[1.96391747270432, 3.92775288327737]</td>\n",
              "      <td>[-0.00194214729852917, 0.00606080576329611]</td>\n",
              "    </tr>\n",
              "    <tr>\n",
              "      <th>18</th>\n",
              "      <td>[1.96391747270432, 3.92775288327737]</td>\n",
              "      <td>[1.96390861865529, 3.92778051386515]</td>\n",
              "      <td>[0.00183362856059585, 0.000587574628222477]</td>\n",
              "    </tr>\n",
              "    <tr>\n",
              "      <th>19</th>\n",
              "      <td>[1.96398908369533, 3.92783584075431]</td>\n",
              "      <td>[1.96398908369533, 3.92783584075431]</td>\n",
              "      <td>[0.00183362856059585, 0.000587574628222477]</td>\n",
              "    </tr>\n",
              "    <tr>\n",
              "      <th>20</th>\n",
              "      <td>[1.96398908369533, 3.92783584075431]</td>\n",
              "      <td>[1.96397066228906, 3.92782993773165]</td>\n",
              "      <td>[-0.000571088491781694, 0.00178218803628849]</td>\n",
              "    </tr>\n",
              "    <tr>\n",
              "      <th>21</th>\n",
              "      <td>[1.97588815150078, 3.95157835200119]</td>\n",
              "      <td>[1.97588815150078, 3.95157835200119]</td>\n",
              "      <td>[-0.000571088491781694, 0.00178218803628849]</td>\n",
              "    </tr>\n",
              "    <tr>\n",
              "      <th>22</th>\n",
              "      <td>[1.97588815150078, 3.95157835200119]</td>\n",
              "      <td>[1.97585164252150, 3.95169228507291]</td>\n",
              "      <td>[0.000549245644752644, 0.000175999491515480]</td>\n",
              "    </tr>\n",
              "  </tbody>\n",
              "</table>\n",
              "</div>"
            ],
            "text/plain": [
              "                                       x  ...                                         df(x)\n",
              "0                             [1.2, 2.0]  ...         [-2.69247368424650, 8.40133714524466]\n",
              "1   [1.58717567512133, 3.26408285714833]  ...         [-2.69247368424650, 8.40133714524466]\n",
              "2   [1.58717567512133, 3.26408285714833]  ...         [2.22538489024428, 0.713194351729630]\n",
              "3   [1.66334938968787, 3.21406511684388]  ...         [2.22538489024428, 0.713194351729630]\n",
              "4   [1.66334938968787, 3.21406511684388]  ...        [-0.498097504414925, 1.55421796638029]\n",
              "5   [1.76884028190128, 3.57833837067244]  ...        [-0.498097504414925, 1.55421796638029]\n",
              "6   [1.76884028190128, 3.57833837067244]  ...        [0.423665595991962, 0.135776821850525]\n",
              "7   [1.79211383206660, 3.55740885010328]  ...        [0.423665595991962, 0.135776821850525]\n",
              "8   [1.79211383206660, 3.55740885010328]  ...       [-0.113956153248817, 0.355578378252645]\n",
              "9   [1.87992678379448, 3.77612770095414]  ...       [-0.113956153248817, 0.355578378252645]\n",
              "10  [1.87992678379448, 3.77612770095414]  ...      [0.0619049190279326, 0.0198393571460691]\n",
              "11  [1.88533850566193, 3.76653686545886]  ...      [0.0619049190279326, 0.0198393571460691]\n",
              "12  [1.88533850566193, 3.76653686545886]  ...     [-0.0185553956494742, 0.0579051785558165]\n",
              "13  [1.94513359596402, 3.89279509740138]  ...     [-0.0185553956494742, 0.0579051785558165]\n",
              "14  [1.94513359596402, 3.89279509740138]  ...    [0.00626117040587103, 0.00200635758333732]\n",
              "15  [1.94583964753411, 3.89126541037764]  ...    [0.00626117040587103, 0.00200635758333732]\n",
              "16  [1.94583964753411, 3.89126541037764]  ...   [-0.00194214729852917, 0.00606080576329611]\n",
              "17  [1.96391747270432, 3.92775288327737]  ...   [-0.00194214729852917, 0.00606080576329611]\n",
              "18  [1.96391747270432, 3.92775288327737]  ...   [0.00183362856059585, 0.000587574628222477]\n",
              "19  [1.96398908369533, 3.92783584075431]  ...   [0.00183362856059585, 0.000587574628222477]\n",
              "20  [1.96398908369533, 3.92783584075431]  ...  [-0.000571088491781694, 0.00178218803628849]\n",
              "21  [1.97588815150078, 3.95157835200119]  ...  [-0.000571088491781694, 0.00178218803628849]\n",
              "22  [1.97588815150078, 3.95157835200119]  ...  [0.000549245644752644, 0.000175999491515480]\n",
              "\n",
              "[23 rows x 3 columns]"
            ]
          },
          "metadata": {
            "tags": []
          },
          "execution_count": 19
        }
      ]
    },
    {
      "cell_type": "markdown",
      "metadata": {
        "id": "0hSVVzwzx1r1"
      },
      "source": [
        "**4** Resolva:\n",
        "\n",
        "Minimizar $(x_1 - 3)^4 + (x_1 - 3x_2)^2$"
      ]
    },
    {
      "cell_type": "code",
      "metadata": {
        "id": "nTBXM4kSNCVJ"
      },
      "source": [
        "import numpy as np\n",
        "import sympy as sym \n",
        "\n",
        "x1 = sym.Symbol('x1')\n",
        "x2 = sym.Symbol('x2')\n",
        "c = [x1,x2]\n",
        "\n",
        "def fo(c):\n",
        "     return (c[0] - 3)**4 + (c[0] - 3*c[1])**2 \n",
        "\n",
        "x = [1.5,2]\n",
        "\n",
        "eps = 1e-3\n",
        "p  = Parametros(fo(c),x,c,eps)\n",
        "m,table = Davidon_Fletcher_Powell(p)"
      ],
      "execution_count": null,
      "outputs": []
    },
    {
      "cell_type": "code",
      "metadata": {
        "colab": {
          "base_uri": "https://localhost:8080/"
        },
        "id": "OxCCpaNhiiI0",
        "outputId": "35708016-5ae1-409c-f337-b37e337fd4c5"
      },
      "source": [
        "m"
      ],
      "execution_count": null,
      "outputs": [
        {
          "output_type": "execute_result",
          "data": {
            "text/plain": [
              "[2.93741017755409, 0.979101208908746]"
            ]
          },
          "metadata": {
            "tags": []
          },
          "execution_count": 21
        }
      ]
    },
    {
      "cell_type": "code",
      "metadata": {
        "colab": {
          "base_uri": "https://localhost:8080/",
          "height": 576
        },
        "id": "rAgHQtIMii3z",
        "outputId": "2f7b343e-7f50-406c-f248-f3565e5f4798"
      },
      "source": [
        "table"
      ],
      "execution_count": null,
      "outputs": [
        {
          "output_type": "execute_result",
          "data": {
            "text/html": [
              "<div>\n",
              "<style scoped>\n",
              "    .dataframe tbody tr th:only-of-type {\n",
              "        vertical-align: middle;\n",
              "    }\n",
              "\n",
              "    .dataframe tbody tr th {\n",
              "        vertical-align: top;\n",
              "    }\n",
              "\n",
              "    .dataframe thead th {\n",
              "        text-align: right;\n",
              "    }\n",
              "</style>\n",
              "<table border=\"1\" class=\"dataframe\">\n",
              "  <thead>\n",
              "    <tr style=\"text-align: right;\">\n",
              "      <th></th>\n",
              "      <th>x</th>\n",
              "      <th>y</th>\n",
              "      <th>df(x)</th>\n",
              "    </tr>\n",
              "  </thead>\n",
              "  <tbody>\n",
              "    <tr>\n",
              "      <th>0</th>\n",
              "      <td>[1.5, 2.0]</td>\n",
              "      <td>[2.49073861653863, 0.811113660153645]</td>\n",
              "      <td>[-0.413506695085297, -0.344385816466160]</td>\n",
              "    </tr>\n",
              "    <tr>\n",
              "      <th>1</th>\n",
              "      <td>[2.59276775978705, 0.894972839719642]</td>\n",
              "      <td>[2.59276775978705, 0.894972839719642]</td>\n",
              "      <td>[-0.413506695085297, -0.344385816466160]</td>\n",
              "    </tr>\n",
              "    <tr>\n",
              "      <th>2</th>\n",
              "      <td>[2.59276775978705, 0.894972839719642]</td>\n",
              "      <td>[2.59183614644195, 0.894196952832449]</td>\n",
              "      <td>[-0.453506112200395, 0.544528272332393]</td>\n",
              "    </tr>\n",
              "    <tr>\n",
              "      <th>3</th>\n",
              "      <td>[2.74263279272075, 0.901051456174850]</td>\n",
              "      <td>[2.74263279272075, 0.901051456174850]</td>\n",
              "      <td>[-0.453506112200395, 0.544528272332393]</td>\n",
              "    </tr>\n",
              "    <tr>\n",
              "      <th>4</th>\n",
              "      <td>[2.74263279272075, 0.901051456174850]</td>\n",
              "      <td>[2.73579601838682, 0.909260423631364]</td>\n",
              "      <td>[-0.0577402132943634, -0.0480884849563665]</td>\n",
              "    </tr>\n",
              "    <tr>\n",
              "      <th>5</th>\n",
              "      <td>[2.76960744565758, 0.931544682153159]</td>\n",
              "      <td>[2.76960744565758, 0.931544682153159]</td>\n",
              "      <td>[-0.0577402132943634, -0.0480884849563665]</td>\n",
              "    </tr>\n",
              "    <tr>\n",
              "      <th>6</th>\n",
              "      <td>[2.76960744565758, 0.931544682153159]</td>\n",
              "      <td>[2.76453410742791, 0.927319392095910]</td>\n",
              "      <td>[-0.0870689972292755, 0.104544413158933]</td>\n",
              "    </tr>\n",
              "    <tr>\n",
              "      <th>7</th>\n",
              "      <td>[2.85458636521515, 0.946312279202572]</td>\n",
              "      <td>[2.85458636521515, 0.946312279202572]</td>\n",
              "      <td>[-0.0870689972292755, 0.104544413158933]</td>\n",
              "    </tr>\n",
              "    <tr>\n",
              "      <th>8</th>\n",
              "      <td>[2.85458636521515, 0.946312279202572]</td>\n",
              "      <td>[2.85149513186943, 0.950023946803551]</td>\n",
              "      <td>[-0.0102537418634556, -0.00853974875268904]</td>\n",
              "    </tr>\n",
              "    <tr>\n",
              "      <th>9</th>\n",
              "      <td>[2.85881779993772, 0.954846185400209]</td>\n",
              "      <td>[2.85881779993772, 0.954846185400209]</td>\n",
              "      <td>[-0.0102537418634556, -0.00853974875268904]</td>\n",
              "    </tr>\n",
              "    <tr>\n",
              "      <th>10</th>\n",
              "      <td>[2.85881779993772, 0.954846185400209]</td>\n",
              "      <td>[2.85757286055431, 0.953809347367007]</td>\n",
              "      <td>[-0.0192671803741185, 0.0231310892802803]</td>\n",
              "    </tr>\n",
              "    <tr>\n",
              "      <th>11</th>\n",
              "      <td>[2.90546968553353, 0.968758160828806]</td>\n",
              "      <td>[2.90546968553353, 0.968758160828806]</td>\n",
              "      <td>[-0.0192671803741185, 0.0231310892802803]</td>\n",
              "    </tr>\n",
              "    <tr>\n",
              "      <th>12</th>\n",
              "      <td>[2.90546968553353, 0.968758160828806]</td>\n",
              "      <td>[2.90572372089813, 0.968453180308314]</td>\n",
              "      <td>[-0.00262335666411673, -0.00218507983910143]</td>\n",
              "    </tr>\n",
              "    <tr>\n",
              "      <th>13</th>\n",
              "      <td>[2.90767793213993, 0.969752598632971]</td>\n",
              "      <td>[2.90767793213993, 0.969752598632971]</td>\n",
              "      <td>[-0.00262335666411673, -0.00218507983910143]</td>\n",
              "    </tr>\n",
              "    <tr>\n",
              "      <th>14</th>\n",
              "      <td>[2.90767793213993, 0.969752598632971]</td>\n",
              "      <td>[2.90733229760538, 0.969464708288713]</td>\n",
              "      <td>[-0.00530671710150354, 0.00637096356457789]</td>\n",
              "    </tr>\n",
              "    <tr>\n",
              "      <th>15</th>\n",
              "      <td>[2.93694741896715, 0.979656772365430]</td>\n",
              "      <td>[2.93694741896715, 0.979656772365430]</td>\n",
              "      <td>[-0.00530671710150354, 0.00637096356457789]</td>\n",
              "    </tr>\n",
              "    <tr>\n",
              "      <th>16</th>\n",
              "      <td>[2.93694741896715, 0.979656772365430]</td>\n",
              "      <td>[2.93741017755409, 0.979101208908746]</td>\n",
              "      <td>[-0.000767677325407945, -0.000639304967091192]</td>\n",
              "    </tr>\n",
              "  </tbody>\n",
              "</table>\n",
              "</div>"
            ],
            "text/plain": [
              "                                        x  ...                                           df(x)\n",
              "0                              [1.5, 2.0]  ...        [-0.413506695085297, -0.344385816466160]\n",
              "1   [2.59276775978705, 0.894972839719642]  ...        [-0.413506695085297, -0.344385816466160]\n",
              "2   [2.59276775978705, 0.894972839719642]  ...         [-0.453506112200395, 0.544528272332393]\n",
              "3   [2.74263279272075, 0.901051456174850]  ...         [-0.453506112200395, 0.544528272332393]\n",
              "4   [2.74263279272075, 0.901051456174850]  ...      [-0.0577402132943634, -0.0480884849563665]\n",
              "5   [2.76960744565758, 0.931544682153159]  ...      [-0.0577402132943634, -0.0480884849563665]\n",
              "6   [2.76960744565758, 0.931544682153159]  ...        [-0.0870689972292755, 0.104544413158933]\n",
              "7   [2.85458636521515, 0.946312279202572]  ...        [-0.0870689972292755, 0.104544413158933]\n",
              "8   [2.85458636521515, 0.946312279202572]  ...     [-0.0102537418634556, -0.00853974875268904]\n",
              "9   [2.85881779993772, 0.954846185400209]  ...     [-0.0102537418634556, -0.00853974875268904]\n",
              "10  [2.85881779993772, 0.954846185400209]  ...       [-0.0192671803741185, 0.0231310892802803]\n",
              "11  [2.90546968553353, 0.968758160828806]  ...       [-0.0192671803741185, 0.0231310892802803]\n",
              "12  [2.90546968553353, 0.968758160828806]  ...    [-0.00262335666411673, -0.00218507983910143]\n",
              "13  [2.90767793213993, 0.969752598632971]  ...    [-0.00262335666411673, -0.00218507983910143]\n",
              "14  [2.90767793213993, 0.969752598632971]  ...     [-0.00530671710150354, 0.00637096356457789]\n",
              "15  [2.93694741896715, 0.979656772365430]  ...     [-0.00530671710150354, 0.00637096356457789]\n",
              "16  [2.93694741896715, 0.979656772365430]  ...  [-0.000767677325407945, -0.000639304967091192]\n",
              "\n",
              "[17 rows x 3 columns]"
            ]
          },
          "metadata": {
            "tags": []
          },
          "execution_count": 22
        }
      ]
    },
    {
      "cell_type": "markdown",
      "metadata": {
        "id": "CE28jgQII9Yv"
      },
      "source": [
        "**Conclusões**\n",
        "\n",
        "O método Quasi-Newton, Davidon-Fletcher-Powell, consegue uma convergência mais rápida que o método do Gradiente Conjugado, Fletcher-Revees, sem tanta variação pela região de busca, levando em geral menos iterações com uma precisão razoável. \n",
        "\n",
        "\n",
        "O problema envolvendo 5 e 10 variáveis foi solucionado mais rapidamente pelo método Quasi-Newton, porém em ambos, o tempo levado para 50 variáveis era inviáveis e em algumas tentativas, o resultado divergia da solução, principalmente no caso do Gradiente Conjugado, ao qual apresenta bastante oscilação em torno da solução.\n",
        "\n",
        "O método do Gradiente Conjugado obtém uma precisão muito alta e consegue a convergência, mesmo lenta, quando se trabalha com uma maior número de variáveis. Pode acontecer de chegar a oscilar muito em torno da resposta e não convergir quando os valores são muito distantes da solução ou a precisão requerida não for muito grande. \n"
      ]
    }
  ]
}